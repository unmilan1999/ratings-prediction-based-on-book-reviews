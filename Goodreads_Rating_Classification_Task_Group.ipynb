{
  "nbformat": 4,
  "nbformat_minor": 0,
  "metadata": {
    "colab": {
      "provenance": []
    },
    "kernelspec": {
      "name": "python3",
      "display_name": "Python 3"
    },
    "language_info": {
      "name": "python"
    },
    "gpuClass": "standard"
  },
  "cells": [
    {
      "cell_type": "markdown",
      "source": [
        "# CS985-Goodreads Rating Classification Task.-Group\n",
        "\n",
        "## Group Members:\n",
        "\n",
        "* Unmilan Baruah\n",
        "* Agboola Funsho\n",
        "* Williams Mishael\n",
        "* Toluwaleke Ariyo\n",
        "* Stephanos Nikolaou\n",
        "* Devjyoti Das"
      ],
      "metadata": {
        "id": "ByUu27RW9lVb"
      }
    },
    {
      "cell_type": "markdown",
      "source": [
        "# Overview\n",
        "In this project, we implemented deep learning to estimate the books' ratings based on their text reviews and in order to categorise the evaluations into various rating levels, \n",
        "we integrated the different models from the standard ML Baseline, 3 layer Neural Networks, Deep Neural Network and the Complex Neural Networks such as the GRU, LSTM, and BERT (a transformer) \n",
        "which are forms of Recurrent neural Networks. After splitting the data, we pre-processed the data to remove the irrelevant information for each model and then evaluated their functionality.\n",
        "According to our research, the LSTM model performed better than every other model and this model is suggested for implementation in this activity. In order to improve performance, \n",
        "it is also advised to try further fine-tuning on said model.\n"
      ],
      "metadata": {
        "id": "HVkkXfdfJzOa"
      }
    },
    {
      "cell_type": "code",
      "execution_count": null,
      "metadata": {
        "id": "Jd_7fxIWAuae"
      },
      "outputs": [],
      "source": [
        "#importing the libraries\n",
        "import pandas as pd\n",
        "import numpy as np\n",
        "import pandas.compat\n",
        "from pandas.compat import *\n",
        "import keras\n",
        "from sklearn.feature_extraction.text import CountVectorizer\n",
        "from sklearn.feature_extraction.text import TfidfTransformer\n",
        "from sklearn.model_selection import train_test_split\n",
        "%tensorflow_version 2.x\n",
        "import tensorflow as tf\n",
        "from tensorflow import keras\n",
        "%load_ext tensorboard\n",
        "import re\n",
        "import string"
      ]
    },
    {
      "cell_type": "code",
      "source": [
        "# Importing the datasets for drive\n",
        "from google.colab import drive\n",
        "drive.mount('/content/drive')"
      ],
      "metadata": {
        "id": "24KRmnfXVYhz",
        "colab": {
          "base_uri": "https://localhost:8080/"
        },
        "outputId": "0ded0ae2-d6c4-4070-ee2c-97e3fd7e6bd6"
      },
      "execution_count": null,
      "outputs": [
        {
          "output_type": "stream",
          "name": "stdout",
          "text": [
            "Drive already mounted at /content/drive; to attempt to forcibly remount, call drive.mount(\"/content/drive\", force_remount=True).\n"
          ]
        }
      ]
    },
    {
      "cell_type": "code",
      "source": [
        "data = pd.read_csv(\"drive/MyDrive/mydata/my_goodreads_train.csv\")\n",
        "test = pd.read_csv(\"drive/MyDrive/mydata/my_goodreads_test.csv\")"
      ],
      "metadata": {
        "id": "FasCLfDKVeZO"
      },
      "execution_count": null,
      "outputs": []
    },
    {
      "cell_type": "code",
      "source": [
        "test.head()"
      ],
      "metadata": {
        "colab": {
          "base_uri": "https://localhost:8080/",
          "height": 634
        },
        "id": "zSe3BRxCt32Z",
        "outputId": "93cfda62-e9cc-4c1f-d847-8226bacba912"
      },
      "execution_count": null,
      "outputs": [
        {
          "output_type": "execute_result",
          "data": {
            "text/plain": [
              "   Unnamed: 0                            user_id    book_id  \\\n",
              "0        2212  11f7623a30dd3f47258dd9a4c806f6850   10439467   \n",
              "1      655187  1b700c4dfcecf272a3d18fea04d1a7f3a     129377   \n",
              "2      483724  1ad43768c54d2c2c2da810cbf052a3fff  176699581   \n",
              "3      322858  1f9214ec05446de0b96d8fe550d994baf   17792372   \n",
              "4      393932  1071b2047c229084b25a0e1fd51e0c698   18499966   \n",
              "\n",
              "                           review_id  \\\n",
              "0  16c32b9bb0142734c60f8b028f281c5dd   \n",
              "1  1f86ec340856f1097c922d33aed48d4ea   \n",
              "2  14a20b34f27611e45bd75e24de6a06324   \n",
              "3  1b2e5b069e4f440d152ae6d48e3f111ac   \n",
              "4  132aec4dfb13a2f8032a7431023dd728f   \n",
              "\n",
              "                                         review_text  \\\n",
              "0  3-3.5 stars \\n While I liked it, I didn't love...   \n",
              "1  First, I must fangirl over the ending. *OMG FA...   \n",
              "2  Somewhere between 4 and 5 - really loved this ...   \n",
              "3  I'll admit it - I was not expecting to enjoy t...   \n",
              "4  Book #25 of 2011 \\n I didn't read the accompyi...   \n",
              "\n",
              "                       date_added                    date_updated  \\\n",
              "0  Wed Oct 17 11:33:43 -0700 2012  Fri Feb 24 20:18:32 -0800 2017   \n",
              "1  Mon Mar 02 14:15:20 -0800 2015  Thu Jul 21 11:27:01 -0700 2016   \n",
              "2  Fri Oct 11 06:44:58 -0700 2013  Sun Aug 03 06:38:24 -0700 2014   \n",
              "3  Sat Apr 05 00:27:42 -0700 2014  Thu Apr 13 16:46:04 -0700 2017   \n",
              "4  Mon Mar 07 15:06:31 -0800 2011  Mon Mar 07 15:12:36 -0800 2011   \n",
              "\n",
              "                          read_at                      started_at  n_votes  \\\n",
              "0  Fri Feb 12 06:19:31 -0800 2016  Sat Feb 06 00:00:00 -0800 2016        1   \n",
              "1  Wed Apr 29 00:00:00 -0700 2015  Mon Apr 27 00:00:00 -0700 2015        0   \n",
              "2  Wed May 07 00:00:00 -0700 2014                             NaN        1   \n",
              "3  Mon Nov 23 03:44:34 -0800 2015  Thu Nov 05 00:00:00 -0800 2015        0   \n",
              "4  Tue Mar 01 00:00:00 -0800 2011                             NaN        0   \n",
              "\n",
              "   n_comments  \n",
              "0           0  \n",
              "1           0  \n",
              "2           0  \n",
              "3           0  \n",
              "4           0  "
            ],
            "text/html": [
              "\n",
              "  <div id=\"df-feed3567-5afd-4c82-a40d-c91c2fc38ae2\">\n",
              "    <div class=\"colab-df-container\">\n",
              "      <div>\n",
              "<style scoped>\n",
              "    .dataframe tbody tr th:only-of-type {\n",
              "        vertical-align: middle;\n",
              "    }\n",
              "\n",
              "    .dataframe tbody tr th {\n",
              "        vertical-align: top;\n",
              "    }\n",
              "\n",
              "    .dataframe thead th {\n",
              "        text-align: right;\n",
              "    }\n",
              "</style>\n",
              "<table border=\"1\" class=\"dataframe\">\n",
              "  <thead>\n",
              "    <tr style=\"text-align: right;\">\n",
              "      <th></th>\n",
              "      <th>Unnamed: 0</th>\n",
              "      <th>user_id</th>\n",
              "      <th>book_id</th>\n",
              "      <th>review_id</th>\n",
              "      <th>review_text</th>\n",
              "      <th>date_added</th>\n",
              "      <th>date_updated</th>\n",
              "      <th>read_at</th>\n",
              "      <th>started_at</th>\n",
              "      <th>n_votes</th>\n",
              "      <th>n_comments</th>\n",
              "    </tr>\n",
              "  </thead>\n",
              "  <tbody>\n",
              "    <tr>\n",
              "      <th>0</th>\n",
              "      <td>2212</td>\n",
              "      <td>11f7623a30dd3f47258dd9a4c806f6850</td>\n",
              "      <td>10439467</td>\n",
              "      <td>16c32b9bb0142734c60f8b028f281c5dd</td>\n",
              "      <td>3-3.5 stars \\n While I liked it, I didn't love...</td>\n",
              "      <td>Wed Oct 17 11:33:43 -0700 2012</td>\n",
              "      <td>Fri Feb 24 20:18:32 -0800 2017</td>\n",
              "      <td>Fri Feb 12 06:19:31 -0800 2016</td>\n",
              "      <td>Sat Feb 06 00:00:00 -0800 2016</td>\n",
              "      <td>1</td>\n",
              "      <td>0</td>\n",
              "    </tr>\n",
              "    <tr>\n",
              "      <th>1</th>\n",
              "      <td>655187</td>\n",
              "      <td>1b700c4dfcecf272a3d18fea04d1a7f3a</td>\n",
              "      <td>129377</td>\n",
              "      <td>1f86ec340856f1097c922d33aed48d4ea</td>\n",
              "      <td>First, I must fangirl over the ending. *OMG FA...</td>\n",
              "      <td>Mon Mar 02 14:15:20 -0800 2015</td>\n",
              "      <td>Thu Jul 21 11:27:01 -0700 2016</td>\n",
              "      <td>Wed Apr 29 00:00:00 -0700 2015</td>\n",
              "      <td>Mon Apr 27 00:00:00 -0700 2015</td>\n",
              "      <td>0</td>\n",
              "      <td>0</td>\n",
              "    </tr>\n",
              "    <tr>\n",
              "      <th>2</th>\n",
              "      <td>483724</td>\n",
              "      <td>1ad43768c54d2c2c2da810cbf052a3fff</td>\n",
              "      <td>176699581</td>\n",
              "      <td>14a20b34f27611e45bd75e24de6a06324</td>\n",
              "      <td>Somewhere between 4 and 5 - really loved this ...</td>\n",
              "      <td>Fri Oct 11 06:44:58 -0700 2013</td>\n",
              "      <td>Sun Aug 03 06:38:24 -0700 2014</td>\n",
              "      <td>Wed May 07 00:00:00 -0700 2014</td>\n",
              "      <td>NaN</td>\n",
              "      <td>1</td>\n",
              "      <td>0</td>\n",
              "    </tr>\n",
              "    <tr>\n",
              "      <th>3</th>\n",
              "      <td>322858</td>\n",
              "      <td>1f9214ec05446de0b96d8fe550d994baf</td>\n",
              "      <td>17792372</td>\n",
              "      <td>1b2e5b069e4f440d152ae6d48e3f111ac</td>\n",
              "      <td>I'll admit it - I was not expecting to enjoy t...</td>\n",
              "      <td>Sat Apr 05 00:27:42 -0700 2014</td>\n",
              "      <td>Thu Apr 13 16:46:04 -0700 2017</td>\n",
              "      <td>Mon Nov 23 03:44:34 -0800 2015</td>\n",
              "      <td>Thu Nov 05 00:00:00 -0800 2015</td>\n",
              "      <td>0</td>\n",
              "      <td>0</td>\n",
              "    </tr>\n",
              "    <tr>\n",
              "      <th>4</th>\n",
              "      <td>393932</td>\n",
              "      <td>1071b2047c229084b25a0e1fd51e0c698</td>\n",
              "      <td>18499966</td>\n",
              "      <td>132aec4dfb13a2f8032a7431023dd728f</td>\n",
              "      <td>Book #25 of 2011 \\n I didn't read the accompyi...</td>\n",
              "      <td>Mon Mar 07 15:06:31 -0800 2011</td>\n",
              "      <td>Mon Mar 07 15:12:36 -0800 2011</td>\n",
              "      <td>Tue Mar 01 00:00:00 -0800 2011</td>\n",
              "      <td>NaN</td>\n",
              "      <td>0</td>\n",
              "      <td>0</td>\n",
              "    </tr>\n",
              "  </tbody>\n",
              "</table>\n",
              "</div>\n",
              "      <button class=\"colab-df-convert\" onclick=\"convertToInteractive('df-feed3567-5afd-4c82-a40d-c91c2fc38ae2')\"\n",
              "              title=\"Convert this dataframe to an interactive table.\"\n",
              "              style=\"display:none;\">\n",
              "        \n",
              "  <svg xmlns=\"http://www.w3.org/2000/svg\" height=\"24px\"viewBox=\"0 0 24 24\"\n",
              "       width=\"24px\">\n",
              "    <path d=\"M0 0h24v24H0V0z\" fill=\"none\"/>\n",
              "    <path d=\"M18.56 5.44l.94 2.06.94-2.06 2.06-.94-2.06-.94-.94-2.06-.94 2.06-2.06.94zm-11 1L8.5 8.5l.94-2.06 2.06-.94-2.06-.94L8.5 2.5l-.94 2.06-2.06.94zm10 10l.94 2.06.94-2.06 2.06-.94-2.06-.94-.94-2.06-.94 2.06-2.06.94z\"/><path d=\"M17.41 7.96l-1.37-1.37c-.4-.4-.92-.59-1.43-.59-.52 0-1.04.2-1.43.59L10.3 9.45l-7.72 7.72c-.78.78-.78 2.05 0 2.83L4 21.41c.39.39.9.59 1.41.59.51 0 1.02-.2 1.41-.59l7.78-7.78 2.81-2.81c.8-.78.8-2.07 0-2.86zM5.41 20L4 18.59l7.72-7.72 1.47 1.35L5.41 20z\"/>\n",
              "  </svg>\n",
              "      </button>\n",
              "      \n",
              "  <style>\n",
              "    .colab-df-container {\n",
              "      display:flex;\n",
              "      flex-wrap:wrap;\n",
              "      gap: 12px;\n",
              "    }\n",
              "\n",
              "    .colab-df-convert {\n",
              "      background-color: #E8F0FE;\n",
              "      border: none;\n",
              "      border-radius: 50%;\n",
              "      cursor: pointer;\n",
              "      display: none;\n",
              "      fill: #1967D2;\n",
              "      height: 32px;\n",
              "      padding: 0 0 0 0;\n",
              "      width: 32px;\n",
              "    }\n",
              "\n",
              "    .colab-df-convert:hover {\n",
              "      background-color: #E2EBFA;\n",
              "      box-shadow: 0px 1px 2px rgba(60, 64, 67, 0.3), 0px 1px 3px 1px rgba(60, 64, 67, 0.15);\n",
              "      fill: #174EA6;\n",
              "    }\n",
              "\n",
              "    [theme=dark] .colab-df-convert {\n",
              "      background-color: #3B4455;\n",
              "      fill: #D2E3FC;\n",
              "    }\n",
              "\n",
              "    [theme=dark] .colab-df-convert:hover {\n",
              "      background-color: #434B5C;\n",
              "      box-shadow: 0px 1px 3px 1px rgba(0, 0, 0, 0.15);\n",
              "      filter: drop-shadow(0px 1px 2px rgba(0, 0, 0, 0.3));\n",
              "      fill: #FFFFFF;\n",
              "    }\n",
              "  </style>\n",
              "\n",
              "      <script>\n",
              "        const buttonEl =\n",
              "          document.querySelector('#df-feed3567-5afd-4c82-a40d-c91c2fc38ae2 button.colab-df-convert');\n",
              "        buttonEl.style.display =\n",
              "          google.colab.kernel.accessAllowed ? 'block' : 'none';\n",
              "\n",
              "        async function convertToInteractive(key) {\n",
              "          const element = document.querySelector('#df-feed3567-5afd-4c82-a40d-c91c2fc38ae2');\n",
              "          const dataTable =\n",
              "            await google.colab.kernel.invokeFunction('convertToInteractive',\n",
              "                                                     [key], {});\n",
              "          if (!dataTable) return;\n",
              "\n",
              "          const docLinkHtml = 'Like what you see? Visit the ' +\n",
              "            '<a target=\"_blank\" href=https://colab.research.google.com/notebooks/data_table.ipynb>data table notebook</a>'\n",
              "            + ' to learn more about interactive tables.';\n",
              "          element.innerHTML = '';\n",
              "          dataTable['output_type'] = 'display_data';\n",
              "          await google.colab.output.renderOutput(dataTable, element);\n",
              "          const docLink = document.createElement('div');\n",
              "          docLink.innerHTML = docLinkHtml;\n",
              "          element.appendChild(docLink);\n",
              "        }\n",
              "      </script>\n",
              "    </div>\n",
              "  </div>\n",
              "  "
            ]
          },
          "metadata": {},
          "execution_count": 4
        }
      ]
    },
    {
      "cell_type": "code",
      "source": [
        "test.shape"
      ],
      "metadata": {
        "colab": {
          "base_uri": "https://localhost:8080/"
        },
        "id": "LUr085vfuaVb",
        "outputId": "9d3a5b0e-4bf9-4f42-a50c-4e0937f9ae96"
      },
      "execution_count": null,
      "outputs": [
        {
          "output_type": "execute_result",
          "data": {
            "text/plain": [
              "(200000, 11)"
            ]
          },
          "metadata": {},
          "execution_count": 5
        }
      ]
    },
    {
      "cell_type": "code",
      "source": [
        "\n",
        "data.head()"
      ],
      "metadata": {
        "colab": {
          "base_uri": "https://localhost:8080/",
          "height": 617
        },
        "id": "wGGEQWGBueSZ",
        "outputId": "ab074e91-6bac-4142-f079-2de03bb03e4a"
      },
      "execution_count": null,
      "outputs": [
        {
          "output_type": "execute_result",
          "data": {
            "text/plain": [
              "                             user_id    book_id  \\\n",
              "0  1da3dcc13cf360b9ecb06251e86237535  182091851   \n",
              "1  1ae436441b6153473ef907aed1006a159    1451461   \n",
              "2  1aa5e9d859b0c0737f4b99a07edf19c88   13483572   \n",
              "3  1940c22aba67c3d49ccd37891c52c9f51  131585171   \n",
              "4  15e03534fccd0e7e1849d712ab9e44342  195643271   \n",
              "\n",
              "                           review_id  rating  \\\n",
              "0  1c949b5dedf860514ec8b97ad158c9f4f       5   \n",
              "1  112ee86a20d7e4308c0a054f8b03128cd       5   \n",
              "2  1253729b67f301b75a0f26e85f6d6fb31       5   \n",
              "3  1ae0005e94dce0dc5c18d6ae2b4a329ab       4   \n",
              "4  1d8357d2abdcc656635c5459c1feec761       3   \n",
              "\n",
              "                                         review_text  \\\n",
              "0  I thought this was a very good historical fant...   \n",
              "1  I've had this book recommended to me more than...   \n",
              "2  Seriously! You go and throw that twist into th...   \n",
              "3  Gosh!!! I'm still not recovering from the effi...   \n",
              "4  3.5 stars rounded down. I can't help it, I jus...   \n",
              "\n",
              "                       date_added                    date_updated  \\\n",
              "0  Fri Feb 01 16:44:16 -0800 2013  Tue Oct 25 18:49:25 -0700 2016   \n",
              "1  Sun Nov 08 12:10:16 -0800 2015  Sun Nov 08 12:24:59 -0800 2015   \n",
              "2  Wed Oct 10 02:07:19 -0700 2012  Sat Apr 27 00:40:19 -0700 2013   \n",
              "3  Thu Dec 05 00:45:29 -0800 2013  Thu Dec 05 00:50:17 -0800 2013   \n",
              "4  Wed Mar 15 18:08:14 -0700 2017  Wed Jul 05 12:55:32 -0700 2017   \n",
              "\n",
              "                          read_at                      started_at  n_votes  \\\n",
              "0  Sat May 04 00:00:00 -0700 2013  Thu Apr 25 00:00:00 -0700 2013        5   \n",
              "1  Tue May 05 00:00:00 -0700 2015  Sun May 03 00:00:00 -0700 2015        0   \n",
              "2  Sat Apr 27 00:40:19 -0700 2013  Thu Apr 25 00:00:00 -0700 2013        0   \n",
              "3  Thu Dec 05 00:50:17 -0800 2013  Wed Dec 04 00:00:00 -0800 2013        5   \n",
              "4  Wed Apr 12 12:17:07 -0700 2017  Tue Apr 11 00:00:00 -0700 2017        0   \n",
              "\n",
              "   n_comments  \n",
              "0           6  \n",
              "1           0  \n",
              "2           0  \n",
              "3           0  \n",
              "4           0  "
            ],
            "text/html": [
              "\n",
              "  <div id=\"df-2c04f351-0911-4bc1-a369-05d4f2d5eed9\">\n",
              "    <div class=\"colab-df-container\">\n",
              "      <div>\n",
              "<style scoped>\n",
              "    .dataframe tbody tr th:only-of-type {\n",
              "        vertical-align: middle;\n",
              "    }\n",
              "\n",
              "    .dataframe tbody tr th {\n",
              "        vertical-align: top;\n",
              "    }\n",
              "\n",
              "    .dataframe thead th {\n",
              "        text-align: right;\n",
              "    }\n",
              "</style>\n",
              "<table border=\"1\" class=\"dataframe\">\n",
              "  <thead>\n",
              "    <tr style=\"text-align: right;\">\n",
              "      <th></th>\n",
              "      <th>user_id</th>\n",
              "      <th>book_id</th>\n",
              "      <th>review_id</th>\n",
              "      <th>rating</th>\n",
              "      <th>review_text</th>\n",
              "      <th>date_added</th>\n",
              "      <th>date_updated</th>\n",
              "      <th>read_at</th>\n",
              "      <th>started_at</th>\n",
              "      <th>n_votes</th>\n",
              "      <th>n_comments</th>\n",
              "    </tr>\n",
              "  </thead>\n",
              "  <tbody>\n",
              "    <tr>\n",
              "      <th>0</th>\n",
              "      <td>1da3dcc13cf360b9ecb06251e86237535</td>\n",
              "      <td>182091851</td>\n",
              "      <td>1c949b5dedf860514ec8b97ad158c9f4f</td>\n",
              "      <td>5</td>\n",
              "      <td>I thought this was a very good historical fant...</td>\n",
              "      <td>Fri Feb 01 16:44:16 -0800 2013</td>\n",
              "      <td>Tue Oct 25 18:49:25 -0700 2016</td>\n",
              "      <td>Sat May 04 00:00:00 -0700 2013</td>\n",
              "      <td>Thu Apr 25 00:00:00 -0700 2013</td>\n",
              "      <td>5</td>\n",
              "      <td>6</td>\n",
              "    </tr>\n",
              "    <tr>\n",
              "      <th>1</th>\n",
              "      <td>1ae436441b6153473ef907aed1006a159</td>\n",
              "      <td>1451461</td>\n",
              "      <td>112ee86a20d7e4308c0a054f8b03128cd</td>\n",
              "      <td>5</td>\n",
              "      <td>I've had this book recommended to me more than...</td>\n",
              "      <td>Sun Nov 08 12:10:16 -0800 2015</td>\n",
              "      <td>Sun Nov 08 12:24:59 -0800 2015</td>\n",
              "      <td>Tue May 05 00:00:00 -0700 2015</td>\n",
              "      <td>Sun May 03 00:00:00 -0700 2015</td>\n",
              "      <td>0</td>\n",
              "      <td>0</td>\n",
              "    </tr>\n",
              "    <tr>\n",
              "      <th>2</th>\n",
              "      <td>1aa5e9d859b0c0737f4b99a07edf19c88</td>\n",
              "      <td>13483572</td>\n",
              "      <td>1253729b67f301b75a0f26e85f6d6fb31</td>\n",
              "      <td>5</td>\n",
              "      <td>Seriously! You go and throw that twist into th...</td>\n",
              "      <td>Wed Oct 10 02:07:19 -0700 2012</td>\n",
              "      <td>Sat Apr 27 00:40:19 -0700 2013</td>\n",
              "      <td>Sat Apr 27 00:40:19 -0700 2013</td>\n",
              "      <td>Thu Apr 25 00:00:00 -0700 2013</td>\n",
              "      <td>0</td>\n",
              "      <td>0</td>\n",
              "    </tr>\n",
              "    <tr>\n",
              "      <th>3</th>\n",
              "      <td>1940c22aba67c3d49ccd37891c52c9f51</td>\n",
              "      <td>131585171</td>\n",
              "      <td>1ae0005e94dce0dc5c18d6ae2b4a329ab</td>\n",
              "      <td>4</td>\n",
              "      <td>Gosh!!! I'm still not recovering from the effi...</td>\n",
              "      <td>Thu Dec 05 00:45:29 -0800 2013</td>\n",
              "      <td>Thu Dec 05 00:50:17 -0800 2013</td>\n",
              "      <td>Thu Dec 05 00:50:17 -0800 2013</td>\n",
              "      <td>Wed Dec 04 00:00:00 -0800 2013</td>\n",
              "      <td>5</td>\n",
              "      <td>0</td>\n",
              "    </tr>\n",
              "    <tr>\n",
              "      <th>4</th>\n",
              "      <td>15e03534fccd0e7e1849d712ab9e44342</td>\n",
              "      <td>195643271</td>\n",
              "      <td>1d8357d2abdcc656635c5459c1feec761</td>\n",
              "      <td>3</td>\n",
              "      <td>3.5 stars rounded down. I can't help it, I jus...</td>\n",
              "      <td>Wed Mar 15 18:08:14 -0700 2017</td>\n",
              "      <td>Wed Jul 05 12:55:32 -0700 2017</td>\n",
              "      <td>Wed Apr 12 12:17:07 -0700 2017</td>\n",
              "      <td>Tue Apr 11 00:00:00 -0700 2017</td>\n",
              "      <td>0</td>\n",
              "      <td>0</td>\n",
              "    </tr>\n",
              "  </tbody>\n",
              "</table>\n",
              "</div>\n",
              "      <button class=\"colab-df-convert\" onclick=\"convertToInteractive('df-2c04f351-0911-4bc1-a369-05d4f2d5eed9')\"\n",
              "              title=\"Convert this dataframe to an interactive table.\"\n",
              "              style=\"display:none;\">\n",
              "        \n",
              "  <svg xmlns=\"http://www.w3.org/2000/svg\" height=\"24px\"viewBox=\"0 0 24 24\"\n",
              "       width=\"24px\">\n",
              "    <path d=\"M0 0h24v24H0V0z\" fill=\"none\"/>\n",
              "    <path d=\"M18.56 5.44l.94 2.06.94-2.06 2.06-.94-2.06-.94-.94-2.06-.94 2.06-2.06.94zm-11 1L8.5 8.5l.94-2.06 2.06-.94-2.06-.94L8.5 2.5l-.94 2.06-2.06.94zm10 10l.94 2.06.94-2.06 2.06-.94-2.06-.94-.94-2.06-.94 2.06-2.06.94z\"/><path d=\"M17.41 7.96l-1.37-1.37c-.4-.4-.92-.59-1.43-.59-.52 0-1.04.2-1.43.59L10.3 9.45l-7.72 7.72c-.78.78-.78 2.05 0 2.83L4 21.41c.39.39.9.59 1.41.59.51 0 1.02-.2 1.41-.59l7.78-7.78 2.81-2.81c.8-.78.8-2.07 0-2.86zM5.41 20L4 18.59l7.72-7.72 1.47 1.35L5.41 20z\"/>\n",
              "  </svg>\n",
              "      </button>\n",
              "      \n",
              "  <style>\n",
              "    .colab-df-container {\n",
              "      display:flex;\n",
              "      flex-wrap:wrap;\n",
              "      gap: 12px;\n",
              "    }\n",
              "\n",
              "    .colab-df-convert {\n",
              "      background-color: #E8F0FE;\n",
              "      border: none;\n",
              "      border-radius: 50%;\n",
              "      cursor: pointer;\n",
              "      display: none;\n",
              "      fill: #1967D2;\n",
              "      height: 32px;\n",
              "      padding: 0 0 0 0;\n",
              "      width: 32px;\n",
              "    }\n",
              "\n",
              "    .colab-df-convert:hover {\n",
              "      background-color: #E2EBFA;\n",
              "      box-shadow: 0px 1px 2px rgba(60, 64, 67, 0.3), 0px 1px 3px 1px rgba(60, 64, 67, 0.15);\n",
              "      fill: #174EA6;\n",
              "    }\n",
              "\n",
              "    [theme=dark] .colab-df-convert {\n",
              "      background-color: #3B4455;\n",
              "      fill: #D2E3FC;\n",
              "    }\n",
              "\n",
              "    [theme=dark] .colab-df-convert:hover {\n",
              "      background-color: #434B5C;\n",
              "      box-shadow: 0px 1px 3px 1px rgba(0, 0, 0, 0.15);\n",
              "      filter: drop-shadow(0px 1px 2px rgba(0, 0, 0, 0.3));\n",
              "      fill: #FFFFFF;\n",
              "    }\n",
              "  </style>\n",
              "\n",
              "      <script>\n",
              "        const buttonEl =\n",
              "          document.querySelector('#df-2c04f351-0911-4bc1-a369-05d4f2d5eed9 button.colab-df-convert');\n",
              "        buttonEl.style.display =\n",
              "          google.colab.kernel.accessAllowed ? 'block' : 'none';\n",
              "\n",
              "        async function convertToInteractive(key) {\n",
              "          const element = document.querySelector('#df-2c04f351-0911-4bc1-a369-05d4f2d5eed9');\n",
              "          const dataTable =\n",
              "            await google.colab.kernel.invokeFunction('convertToInteractive',\n",
              "                                                     [key], {});\n",
              "          if (!dataTable) return;\n",
              "\n",
              "          const docLinkHtml = 'Like what you see? Visit the ' +\n",
              "            '<a target=\"_blank\" href=https://colab.research.google.com/notebooks/data_table.ipynb>data table notebook</a>'\n",
              "            + ' to learn more about interactive tables.';\n",
              "          element.innerHTML = '';\n",
              "          dataTable['output_type'] = 'display_data';\n",
              "          await google.colab.output.renderOutput(dataTable, element);\n",
              "          const docLink = document.createElement('div');\n",
              "          docLink.innerHTML = docLinkHtml;\n",
              "          element.appendChild(docLink);\n",
              "        }\n",
              "      </script>\n",
              "    </div>\n",
              "  </div>\n",
              "  "
            ]
          },
          "metadata": {},
          "execution_count": 6
        }
      ]
    },
    {
      "cell_type": "code",
      "source": [
        "data.shape"
      ],
      "metadata": {
        "id": "4M9s9DyFXsMk",
        "colab": {
          "base_uri": "https://localhost:8080/"
        },
        "outputId": "73001b2c-b815-43a6-98d7-63249cdc19bf"
      },
      "execution_count": null,
      "outputs": [
        {
          "output_type": "execute_result",
          "data": {
            "text/plain": [
              "(700000, 11)"
            ]
          },
          "metadata": {},
          "execution_count": 7
        }
      ]
    },
    {
      "cell_type": "code",
      "source": [
        "data.info()"
      ],
      "metadata": {
        "colab": {
          "base_uri": "https://localhost:8080/"
        },
        "id": "iRuT40cWio6o",
        "outputId": "4b3d1500-a1f4-4b7c-b46e-72bf75398035"
      },
      "execution_count": null,
      "outputs": [
        {
          "output_type": "stream",
          "name": "stdout",
          "text": [
            "<class 'pandas.core.frame.DataFrame'>\n",
            "RangeIndex: 700000 entries, 0 to 699999\n",
            "Data columns (total 11 columns):\n",
            " #   Column        Non-Null Count   Dtype \n",
            "---  ------        --------------   ----- \n",
            " 0   user_id       700000 non-null  object\n",
            " 1   book_id       700000 non-null  int64 \n",
            " 2   review_id     700000 non-null  object\n",
            " 3   rating        700000 non-null  int64 \n",
            " 4   review_text   700000 non-null  object\n",
            " 5   date_added    700000 non-null  object\n",
            " 6   date_updated  700000 non-null  object\n",
            " 7   read_at       628588 non-null  object\n",
            " 8   started_at    486589 non-null  object\n",
            " 9   n_votes       700000 non-null  int64 \n",
            " 10  n_comments    700000 non-null  int64 \n",
            "dtypes: int64(4), object(7)\n",
            "memory usage: 58.7+ MB\n"
          ]
        }
      ]
    },
    {
      "cell_type": "code",
      "source": [
        "data.head()"
      ],
      "metadata": {
        "colab": {
          "base_uri": "https://localhost:8080/",
          "height": 617
        },
        "id": "olWt_lXli2KS",
        "outputId": "834f12d5-4c79-4479-c1d2-1583ed7173b4"
      },
      "execution_count": null,
      "outputs": [
        {
          "output_type": "execute_result",
          "data": {
            "text/plain": [
              "                             user_id    book_id  \\\n",
              "0  1da3dcc13cf360b9ecb06251e86237535  182091851   \n",
              "1  1ae436441b6153473ef907aed1006a159    1451461   \n",
              "2  1aa5e9d859b0c0737f4b99a07edf19c88   13483572   \n",
              "3  1940c22aba67c3d49ccd37891c52c9f51  131585171   \n",
              "4  15e03534fccd0e7e1849d712ab9e44342  195643271   \n",
              "\n",
              "                           review_id  rating  \\\n",
              "0  1c949b5dedf860514ec8b97ad158c9f4f       5   \n",
              "1  112ee86a20d7e4308c0a054f8b03128cd       5   \n",
              "2  1253729b67f301b75a0f26e85f6d6fb31       5   \n",
              "3  1ae0005e94dce0dc5c18d6ae2b4a329ab       4   \n",
              "4  1d8357d2abdcc656635c5459c1feec761       3   \n",
              "\n",
              "                                         review_text  \\\n",
              "0  I thought this was a very good historical fant...   \n",
              "1  I've had this book recommended to me more than...   \n",
              "2  Seriously! You go and throw that twist into th...   \n",
              "3  Gosh!!! I'm still not recovering from the effi...   \n",
              "4  3.5 stars rounded down. I can't help it, I jus...   \n",
              "\n",
              "                       date_added                    date_updated  \\\n",
              "0  Fri Feb 01 16:44:16 -0800 2013  Tue Oct 25 18:49:25 -0700 2016   \n",
              "1  Sun Nov 08 12:10:16 -0800 2015  Sun Nov 08 12:24:59 -0800 2015   \n",
              "2  Wed Oct 10 02:07:19 -0700 2012  Sat Apr 27 00:40:19 -0700 2013   \n",
              "3  Thu Dec 05 00:45:29 -0800 2013  Thu Dec 05 00:50:17 -0800 2013   \n",
              "4  Wed Mar 15 18:08:14 -0700 2017  Wed Jul 05 12:55:32 -0700 2017   \n",
              "\n",
              "                          read_at                      started_at  n_votes  \\\n",
              "0  Sat May 04 00:00:00 -0700 2013  Thu Apr 25 00:00:00 -0700 2013        5   \n",
              "1  Tue May 05 00:00:00 -0700 2015  Sun May 03 00:00:00 -0700 2015        0   \n",
              "2  Sat Apr 27 00:40:19 -0700 2013  Thu Apr 25 00:00:00 -0700 2013        0   \n",
              "3  Thu Dec 05 00:50:17 -0800 2013  Wed Dec 04 00:00:00 -0800 2013        5   \n",
              "4  Wed Apr 12 12:17:07 -0700 2017  Tue Apr 11 00:00:00 -0700 2017        0   \n",
              "\n",
              "   n_comments  \n",
              "0           6  \n",
              "1           0  \n",
              "2           0  \n",
              "3           0  \n",
              "4           0  "
            ],
            "text/html": [
              "\n",
              "  <div id=\"df-8666d75d-4e4c-40f7-83a0-c19b1f771bde\">\n",
              "    <div class=\"colab-df-container\">\n",
              "      <div>\n",
              "<style scoped>\n",
              "    .dataframe tbody tr th:only-of-type {\n",
              "        vertical-align: middle;\n",
              "    }\n",
              "\n",
              "    .dataframe tbody tr th {\n",
              "        vertical-align: top;\n",
              "    }\n",
              "\n",
              "    .dataframe thead th {\n",
              "        text-align: right;\n",
              "    }\n",
              "</style>\n",
              "<table border=\"1\" class=\"dataframe\">\n",
              "  <thead>\n",
              "    <tr style=\"text-align: right;\">\n",
              "      <th></th>\n",
              "      <th>user_id</th>\n",
              "      <th>book_id</th>\n",
              "      <th>review_id</th>\n",
              "      <th>rating</th>\n",
              "      <th>review_text</th>\n",
              "      <th>date_added</th>\n",
              "      <th>date_updated</th>\n",
              "      <th>read_at</th>\n",
              "      <th>started_at</th>\n",
              "      <th>n_votes</th>\n",
              "      <th>n_comments</th>\n",
              "    </tr>\n",
              "  </thead>\n",
              "  <tbody>\n",
              "    <tr>\n",
              "      <th>0</th>\n",
              "      <td>1da3dcc13cf360b9ecb06251e86237535</td>\n",
              "      <td>182091851</td>\n",
              "      <td>1c949b5dedf860514ec8b97ad158c9f4f</td>\n",
              "      <td>5</td>\n",
              "      <td>I thought this was a very good historical fant...</td>\n",
              "      <td>Fri Feb 01 16:44:16 -0800 2013</td>\n",
              "      <td>Tue Oct 25 18:49:25 -0700 2016</td>\n",
              "      <td>Sat May 04 00:00:00 -0700 2013</td>\n",
              "      <td>Thu Apr 25 00:00:00 -0700 2013</td>\n",
              "      <td>5</td>\n",
              "      <td>6</td>\n",
              "    </tr>\n",
              "    <tr>\n",
              "      <th>1</th>\n",
              "      <td>1ae436441b6153473ef907aed1006a159</td>\n",
              "      <td>1451461</td>\n",
              "      <td>112ee86a20d7e4308c0a054f8b03128cd</td>\n",
              "      <td>5</td>\n",
              "      <td>I've had this book recommended to me more than...</td>\n",
              "      <td>Sun Nov 08 12:10:16 -0800 2015</td>\n",
              "      <td>Sun Nov 08 12:24:59 -0800 2015</td>\n",
              "      <td>Tue May 05 00:00:00 -0700 2015</td>\n",
              "      <td>Sun May 03 00:00:00 -0700 2015</td>\n",
              "      <td>0</td>\n",
              "      <td>0</td>\n",
              "    </tr>\n",
              "    <tr>\n",
              "      <th>2</th>\n",
              "      <td>1aa5e9d859b0c0737f4b99a07edf19c88</td>\n",
              "      <td>13483572</td>\n",
              "      <td>1253729b67f301b75a0f26e85f6d6fb31</td>\n",
              "      <td>5</td>\n",
              "      <td>Seriously! You go and throw that twist into th...</td>\n",
              "      <td>Wed Oct 10 02:07:19 -0700 2012</td>\n",
              "      <td>Sat Apr 27 00:40:19 -0700 2013</td>\n",
              "      <td>Sat Apr 27 00:40:19 -0700 2013</td>\n",
              "      <td>Thu Apr 25 00:00:00 -0700 2013</td>\n",
              "      <td>0</td>\n",
              "      <td>0</td>\n",
              "    </tr>\n",
              "    <tr>\n",
              "      <th>3</th>\n",
              "      <td>1940c22aba67c3d49ccd37891c52c9f51</td>\n",
              "      <td>131585171</td>\n",
              "      <td>1ae0005e94dce0dc5c18d6ae2b4a329ab</td>\n",
              "      <td>4</td>\n",
              "      <td>Gosh!!! I'm still not recovering from the effi...</td>\n",
              "      <td>Thu Dec 05 00:45:29 -0800 2013</td>\n",
              "      <td>Thu Dec 05 00:50:17 -0800 2013</td>\n",
              "      <td>Thu Dec 05 00:50:17 -0800 2013</td>\n",
              "      <td>Wed Dec 04 00:00:00 -0800 2013</td>\n",
              "      <td>5</td>\n",
              "      <td>0</td>\n",
              "    </tr>\n",
              "    <tr>\n",
              "      <th>4</th>\n",
              "      <td>15e03534fccd0e7e1849d712ab9e44342</td>\n",
              "      <td>195643271</td>\n",
              "      <td>1d8357d2abdcc656635c5459c1feec761</td>\n",
              "      <td>3</td>\n",
              "      <td>3.5 stars rounded down. I can't help it, I jus...</td>\n",
              "      <td>Wed Mar 15 18:08:14 -0700 2017</td>\n",
              "      <td>Wed Jul 05 12:55:32 -0700 2017</td>\n",
              "      <td>Wed Apr 12 12:17:07 -0700 2017</td>\n",
              "      <td>Tue Apr 11 00:00:00 -0700 2017</td>\n",
              "      <td>0</td>\n",
              "      <td>0</td>\n",
              "    </tr>\n",
              "  </tbody>\n",
              "</table>\n",
              "</div>\n",
              "      <button class=\"colab-df-convert\" onclick=\"convertToInteractive('df-8666d75d-4e4c-40f7-83a0-c19b1f771bde')\"\n",
              "              title=\"Convert this dataframe to an interactive table.\"\n",
              "              style=\"display:none;\">\n",
              "        \n",
              "  <svg xmlns=\"http://www.w3.org/2000/svg\" height=\"24px\"viewBox=\"0 0 24 24\"\n",
              "       width=\"24px\">\n",
              "    <path d=\"M0 0h24v24H0V0z\" fill=\"none\"/>\n",
              "    <path d=\"M18.56 5.44l.94 2.06.94-2.06 2.06-.94-2.06-.94-.94-2.06-.94 2.06-2.06.94zm-11 1L8.5 8.5l.94-2.06 2.06-.94-2.06-.94L8.5 2.5l-.94 2.06-2.06.94zm10 10l.94 2.06.94-2.06 2.06-.94-2.06-.94-.94-2.06-.94 2.06-2.06.94z\"/><path d=\"M17.41 7.96l-1.37-1.37c-.4-.4-.92-.59-1.43-.59-.52 0-1.04.2-1.43.59L10.3 9.45l-7.72 7.72c-.78.78-.78 2.05 0 2.83L4 21.41c.39.39.9.59 1.41.59.51 0 1.02-.2 1.41-.59l7.78-7.78 2.81-2.81c.8-.78.8-2.07 0-2.86zM5.41 20L4 18.59l7.72-7.72 1.47 1.35L5.41 20z\"/>\n",
              "  </svg>\n",
              "      </button>\n",
              "      \n",
              "  <style>\n",
              "    .colab-df-container {\n",
              "      display:flex;\n",
              "      flex-wrap:wrap;\n",
              "      gap: 12px;\n",
              "    }\n",
              "\n",
              "    .colab-df-convert {\n",
              "      background-color: #E8F0FE;\n",
              "      border: none;\n",
              "      border-radius: 50%;\n",
              "      cursor: pointer;\n",
              "      display: none;\n",
              "      fill: #1967D2;\n",
              "      height: 32px;\n",
              "      padding: 0 0 0 0;\n",
              "      width: 32px;\n",
              "    }\n",
              "\n",
              "    .colab-df-convert:hover {\n",
              "      background-color: #E2EBFA;\n",
              "      box-shadow: 0px 1px 2px rgba(60, 64, 67, 0.3), 0px 1px 3px 1px rgba(60, 64, 67, 0.15);\n",
              "      fill: #174EA6;\n",
              "    }\n",
              "\n",
              "    [theme=dark] .colab-df-convert {\n",
              "      background-color: #3B4455;\n",
              "      fill: #D2E3FC;\n",
              "    }\n",
              "\n",
              "    [theme=dark] .colab-df-convert:hover {\n",
              "      background-color: #434B5C;\n",
              "      box-shadow: 0px 1px 3px 1px rgba(0, 0, 0, 0.15);\n",
              "      filter: drop-shadow(0px 1px 2px rgba(0, 0, 0, 0.3));\n",
              "      fill: #FFFFFF;\n",
              "    }\n",
              "  </style>\n",
              "\n",
              "      <script>\n",
              "        const buttonEl =\n",
              "          document.querySelector('#df-8666d75d-4e4c-40f7-83a0-c19b1f771bde button.colab-df-convert');\n",
              "        buttonEl.style.display =\n",
              "          google.colab.kernel.accessAllowed ? 'block' : 'none';\n",
              "\n",
              "        async function convertToInteractive(key) {\n",
              "          const element = document.querySelector('#df-8666d75d-4e4c-40f7-83a0-c19b1f771bde');\n",
              "          const dataTable =\n",
              "            await google.colab.kernel.invokeFunction('convertToInteractive',\n",
              "                                                     [key], {});\n",
              "          if (!dataTable) return;\n",
              "\n",
              "          const docLinkHtml = 'Like what you see? Visit the ' +\n",
              "            '<a target=\"_blank\" href=https://colab.research.google.com/notebooks/data_table.ipynb>data table notebook</a>'\n",
              "            + ' to learn more about interactive tables.';\n",
              "          element.innerHTML = '';\n",
              "          dataTable['output_type'] = 'display_data';\n",
              "          await google.colab.output.renderOutput(dataTable, element);\n",
              "          const docLink = document.createElement('div');\n",
              "          docLink.innerHTML = docLinkHtml;\n",
              "          element.appendChild(docLink);\n",
              "        }\n",
              "      </script>\n",
              "    </div>\n",
              "  </div>\n",
              "  "
            ]
          },
          "metadata": {},
          "execution_count": 9
        }
      ]
    },
    {
      "cell_type": "code",
      "source": [
        "# Working with the relevant attributes\n",
        "data1 = pd.concat([data.review_text, test.review_text], axis=0)\n",
        "data1.shape"
      ],
      "metadata": {
        "colab": {
          "base_uri": "https://localhost:8080/"
        },
        "id": "u6NUbHnCHZ1v",
        "outputId": "09d13072-fa1f-457b-b113-6f12e083e1de"
      },
      "execution_count": null,
      "outputs": [
        {
          "output_type": "execute_result",
          "data": {
            "text/plain": [
              "(900000,)"
            ]
          },
          "metadata": {},
          "execution_count": 10
        }
      ]
    },
    {
      "cell_type": "code",
      "source": [
        "data1 = pd.DataFrame(data1)\n",
        "data1"
      ],
      "metadata": {
        "colab": {
          "base_uri": "https://localhost:8080/",
          "height": 423
        },
        "id": "3No8jiduAMtb",
        "outputId": "4d26ca75-da9f-4a7b-d36c-572ac36888ed"
      },
      "execution_count": null,
      "outputs": [
        {
          "output_type": "execute_result",
          "data": {
            "text/plain": [
              "                                              review_text\n",
              "0       I thought this was a very good historical fant...\n",
              "1       I've had this book recommended to me more than...\n",
              "2       Seriously! You go and throw that twist into th...\n",
              "3       Gosh!!! I'm still not recovering from the effi...\n",
              "4       3.5 stars rounded down. I can't help it, I jus...\n",
              "...                                                   ...\n",
              "199995  ** sp01l3r al3rt ** \\n I reeeeeally liked CoLS...\n",
              "199996  I do like this book, although, like many other...\n",
              "199997  Eh. Read my full review at http://yalitwit.blo...\n",
              "199998  I really liked this book! I was angry with som...\n",
              "199999  This is a ridiculously fun book. The action is...\n",
              "\n",
              "[900000 rows x 1 columns]"
            ],
            "text/html": [
              "\n",
              "  <div id=\"df-2eb41e21-c35a-4951-98e0-c67426b55e3c\">\n",
              "    <div class=\"colab-df-container\">\n",
              "      <div>\n",
              "<style scoped>\n",
              "    .dataframe tbody tr th:only-of-type {\n",
              "        vertical-align: middle;\n",
              "    }\n",
              "\n",
              "    .dataframe tbody tr th {\n",
              "        vertical-align: top;\n",
              "    }\n",
              "\n",
              "    .dataframe thead th {\n",
              "        text-align: right;\n",
              "    }\n",
              "</style>\n",
              "<table border=\"1\" class=\"dataframe\">\n",
              "  <thead>\n",
              "    <tr style=\"text-align: right;\">\n",
              "      <th></th>\n",
              "      <th>review_text</th>\n",
              "    </tr>\n",
              "  </thead>\n",
              "  <tbody>\n",
              "    <tr>\n",
              "      <th>0</th>\n",
              "      <td>I thought this was a very good historical fant...</td>\n",
              "    </tr>\n",
              "    <tr>\n",
              "      <th>1</th>\n",
              "      <td>I've had this book recommended to me more than...</td>\n",
              "    </tr>\n",
              "    <tr>\n",
              "      <th>2</th>\n",
              "      <td>Seriously! You go and throw that twist into th...</td>\n",
              "    </tr>\n",
              "    <tr>\n",
              "      <th>3</th>\n",
              "      <td>Gosh!!! I'm still not recovering from the effi...</td>\n",
              "    </tr>\n",
              "    <tr>\n",
              "      <th>4</th>\n",
              "      <td>3.5 stars rounded down. I can't help it, I jus...</td>\n",
              "    </tr>\n",
              "    <tr>\n",
              "      <th>...</th>\n",
              "      <td>...</td>\n",
              "    </tr>\n",
              "    <tr>\n",
              "      <th>199995</th>\n",
              "      <td>** sp01l3r al3rt ** \\n I reeeeeally liked CoLS...</td>\n",
              "    </tr>\n",
              "    <tr>\n",
              "      <th>199996</th>\n",
              "      <td>I do like this book, although, like many other...</td>\n",
              "    </tr>\n",
              "    <tr>\n",
              "      <th>199997</th>\n",
              "      <td>Eh. Read my full review at http://yalitwit.blo...</td>\n",
              "    </tr>\n",
              "    <tr>\n",
              "      <th>199998</th>\n",
              "      <td>I really liked this book! I was angry with som...</td>\n",
              "    </tr>\n",
              "    <tr>\n",
              "      <th>199999</th>\n",
              "      <td>This is a ridiculously fun book. The action is...</td>\n",
              "    </tr>\n",
              "  </tbody>\n",
              "</table>\n",
              "<p>900000 rows × 1 columns</p>\n",
              "</div>\n",
              "      <button class=\"colab-df-convert\" onclick=\"convertToInteractive('df-2eb41e21-c35a-4951-98e0-c67426b55e3c')\"\n",
              "              title=\"Convert this dataframe to an interactive table.\"\n",
              "              style=\"display:none;\">\n",
              "        \n",
              "  <svg xmlns=\"http://www.w3.org/2000/svg\" height=\"24px\"viewBox=\"0 0 24 24\"\n",
              "       width=\"24px\">\n",
              "    <path d=\"M0 0h24v24H0V0z\" fill=\"none\"/>\n",
              "    <path d=\"M18.56 5.44l.94 2.06.94-2.06 2.06-.94-2.06-.94-.94-2.06-.94 2.06-2.06.94zm-11 1L8.5 8.5l.94-2.06 2.06-.94-2.06-.94L8.5 2.5l-.94 2.06-2.06.94zm10 10l.94 2.06.94-2.06 2.06-.94-2.06-.94-.94-2.06-.94 2.06-2.06.94z\"/><path d=\"M17.41 7.96l-1.37-1.37c-.4-.4-.92-.59-1.43-.59-.52 0-1.04.2-1.43.59L10.3 9.45l-7.72 7.72c-.78.78-.78 2.05 0 2.83L4 21.41c.39.39.9.59 1.41.59.51 0 1.02-.2 1.41-.59l7.78-7.78 2.81-2.81c.8-.78.8-2.07 0-2.86zM5.41 20L4 18.59l7.72-7.72 1.47 1.35L5.41 20z\"/>\n",
              "  </svg>\n",
              "      </button>\n",
              "      \n",
              "  <style>\n",
              "    .colab-df-container {\n",
              "      display:flex;\n",
              "      flex-wrap:wrap;\n",
              "      gap: 12px;\n",
              "    }\n",
              "\n",
              "    .colab-df-convert {\n",
              "      background-color: #E8F0FE;\n",
              "      border: none;\n",
              "      border-radius: 50%;\n",
              "      cursor: pointer;\n",
              "      display: none;\n",
              "      fill: #1967D2;\n",
              "      height: 32px;\n",
              "      padding: 0 0 0 0;\n",
              "      width: 32px;\n",
              "    }\n",
              "\n",
              "    .colab-df-convert:hover {\n",
              "      background-color: #E2EBFA;\n",
              "      box-shadow: 0px 1px 2px rgba(60, 64, 67, 0.3), 0px 1px 3px 1px rgba(60, 64, 67, 0.15);\n",
              "      fill: #174EA6;\n",
              "    }\n",
              "\n",
              "    [theme=dark] .colab-df-convert {\n",
              "      background-color: #3B4455;\n",
              "      fill: #D2E3FC;\n",
              "    }\n",
              "\n",
              "    [theme=dark] .colab-df-convert:hover {\n",
              "      background-color: #434B5C;\n",
              "      box-shadow: 0px 1px 3px 1px rgba(0, 0, 0, 0.15);\n",
              "      filter: drop-shadow(0px 1px 2px rgba(0, 0, 0, 0.3));\n",
              "      fill: #FFFFFF;\n",
              "    }\n",
              "  </style>\n",
              "\n",
              "      <script>\n",
              "        const buttonEl =\n",
              "          document.querySelector('#df-2eb41e21-c35a-4951-98e0-c67426b55e3c button.colab-df-convert');\n",
              "        buttonEl.style.display =\n",
              "          google.colab.kernel.accessAllowed ? 'block' : 'none';\n",
              "\n",
              "        async function convertToInteractive(key) {\n",
              "          const element = document.querySelector('#df-2eb41e21-c35a-4951-98e0-c67426b55e3c');\n",
              "          const dataTable =\n",
              "            await google.colab.kernel.invokeFunction('convertToInteractive',\n",
              "                                                     [key], {});\n",
              "          if (!dataTable) return;\n",
              "\n",
              "          const docLinkHtml = 'Like what you see? Visit the ' +\n",
              "            '<a target=\"_blank\" href=https://colab.research.google.com/notebooks/data_table.ipynb>data table notebook</a>'\n",
              "            + ' to learn more about interactive tables.';\n",
              "          element.innerHTML = '';\n",
              "          dataTable['output_type'] = 'display_data';\n",
              "          await google.colab.output.renderOutput(dataTable, element);\n",
              "          const docLink = document.createElement('div');\n",
              "          docLink.innerHTML = docLinkHtml;\n",
              "          element.appendChild(docLink);\n",
              "        }\n",
              "      </script>\n",
              "    </div>\n",
              "  </div>\n",
              "  "
            ]
          },
          "metadata": {},
          "execution_count": 11
        }
      ]
    },
    {
      "cell_type": "code",
      "source": [
        "# transformation of the data into numerical representations, using the ContentVectorizer and the TfidfTransformer\n",
        "from sklearn.feature_extraction.text import CountVectorizer\n",
        "count_vect = CountVectorizer()\n",
        "X_train_counts = count_vect.fit_transform(data1.review_text)\n",
        "X_train_counts.shape"
      ],
      "metadata": {
        "colab": {
          "base_uri": "https://localhost:8080/"
        },
        "id": "ZG2KRUbUlbQX",
        "outputId": "1bb50ba0-aa85-4fa9-b81b-12d7525eeac8"
      },
      "execution_count": null,
      "outputs": [
        {
          "output_type": "execute_result",
          "data": {
            "text/plain": [
              "(900000, 295944)"
            ]
          },
          "metadata": {},
          "execution_count": 12
        }
      ]
    },
    {
      "cell_type": "code",
      "source": [
        "from sklearn.feature_extraction.text import TfidfTransformer\n",
        "tf_transformer = TfidfTransformer(use_idf=False).fit(X_train_counts)\n",
        "X_train_tf = tf_transformer.transform(X_train_counts)\n",
        "X_train_tf.shape"
      ],
      "metadata": {
        "colab": {
          "base_uri": "https://localhost:8080/"
        },
        "id": "MITaxiUXnS65",
        "outputId": "5f08c7bf-186c-4a1f-de1f-6851c16aa843"
      },
      "execution_count": null,
      "outputs": [
        {
          "output_type": "execute_result",
          "data": {
            "text/plain": [
              "(900000, 295944)"
            ]
          },
          "metadata": {},
          "execution_count": 13
        }
      ]
    },
    {
      "cell_type": "code",
      "source": [
        "train_data = X_train_tf[:700000, :]\n",
        "train_data.shape"
      ],
      "metadata": {
        "colab": {
          "base_uri": "https://localhost:8080/"
        },
        "id": "JGZfqGt_Js-V",
        "outputId": "e9400618-d26a-41df-f3e0-7db7b380e65a"
      },
      "execution_count": null,
      "outputs": [
        {
          "output_type": "execute_result",
          "data": {
            "text/plain": [
              "(700000, 295944)"
            ]
          },
          "metadata": {},
          "execution_count": 14
        }
      ]
    },
    {
      "cell_type": "code",
      "source": [
        "test_data = X_train_tf[700000:, :]\n",
        "test_data.shape"
      ],
      "metadata": {
        "colab": {
          "base_uri": "https://localhost:8080/"
        },
        "id": "bBZBs6wmKG0u",
        "outputId": "c8126690-e547-4249-f70d-accb73a37057"
      },
      "execution_count": null,
      "outputs": [
        {
          "output_type": "execute_result",
          "data": {
            "text/plain": [
              "(200000, 295944)"
            ]
          },
          "metadata": {},
          "execution_count": 15
        }
      ]
    },
    {
      "cell_type": "code",
      "source": [
        "from sklearn.model_selection import train_test_split\n",
        "x_train, x_val, y_train, y_val = train_test_split(train_data, data.rating, test_size = 0.285714, random_state=40)"
      ],
      "metadata": {
        "id": "MlrfwDvVqbVn"
      },
      "execution_count": null,
      "outputs": []
    },
    {
      "cell_type": "code",
      "source": [
        "x_train.shape"
      ],
      "metadata": {
        "colab": {
          "base_uri": "https://localhost:8080/"
        },
        "id": "oeQ-qabTspk5",
        "outputId": "76d4f7ea-7150-46fe-9449-22ff64071c72"
      },
      "execution_count": null,
      "outputs": [
        {
          "output_type": "execute_result",
          "data": {
            "text/plain": [
              "(500000, 295944)"
            ]
          },
          "metadata": {},
          "execution_count": 17
        }
      ]
    },
    {
      "cell_type": "code",
      "source": [
        "y_train.shape"
      ],
      "metadata": {
        "colab": {
          "base_uri": "https://localhost:8080/"
        },
        "id": "BFNj3z1utC0f",
        "outputId": "7b630b90-8e73-4935-ca3d-1374b83ecf80"
      },
      "execution_count": null,
      "outputs": [
        {
          "output_type": "execute_result",
          "data": {
            "text/plain": [
              "(500000,)"
            ]
          },
          "metadata": {},
          "execution_count": 18
        }
      ]
    },
    {
      "cell_type": "code",
      "source": [
        "x_val.shape"
      ],
      "metadata": {
        "colab": {
          "base_uri": "https://localhost:8080/"
        },
        "id": "TUN4rSHAtHEv",
        "outputId": "b0f95cdf-2510-4853-81ca-6b81dad6b8fb"
      },
      "execution_count": null,
      "outputs": [
        {
          "output_type": "execute_result",
          "data": {
            "text/plain": [
              "(200000, 295944)"
            ]
          },
          "metadata": {},
          "execution_count": 19
        }
      ]
    },
    {
      "cell_type": "code",
      "source": [
        "y_val.shape"
      ],
      "metadata": {
        "colab": {
          "base_uri": "https://localhost:8080/"
        },
        "id": "QV0hIcp8tMgp",
        "outputId": "2974e61b-c8cd-4dd3-e2d8-bb995ce80ad4"
      },
      "execution_count": null,
      "outputs": [
        {
          "output_type": "execute_result",
          "data": {
            "text/plain": [
              "(200000,)"
            ]
          },
          "metadata": {},
          "execution_count": 20
        }
      ]
    },
    {
      "cell_type": "markdown",
      "source": [
        "# Method\n",
        "It was noted that some spoilers that could potentially affect the accuracy of our models were were in the reviews. Therefore, it was needed to consider excluding such reviews \n",
        "or developing a way to detect and handle them appropriately and so before the texts were cleaned by removing contents like punctuation and stop words, we first pre-processed \n",
        "the data by eliminating any extraneous characters like emojis and URLs. The text was then transformed into numerical representations using the CountVectorizer and TfidfTransformer routines.\n",
        "The “train_test_split” method from scikit-learn is employed to randomly perform a 2-way split (splitting the original dataset into training and validation sets) as the test set \n",
        "is available separately to avoid the production of Bias estimates. The method was run on the data for the generation of a validation set for testing our models. A test size of  \n",
        "a value of exactly “0.285714” was employed to have a training set of 500,000 and a validation of 200,000 rows (which will also be the same with the test size) and this set “test_size” \n",
        "kept consistent among the models.\n",
        "\n",
        ".\n",
        "\n",
        "Four different sections were implemented\n",
        "\n",
        "i. A typical Machine Learning algorithm\n",
        "\n",
        "ii. A 3 layer Neural Network\n",
        "\n",
        "iii. A deep NN with various layer sizes\n",
        "\n",
        "iv. Complex Models containing GRU, BERT and LSTM\n",
        "\n",
        "\n",
        ".\n",
        "\n",
        "The Multinomial Naive Bayes and SGD Classifier were applied for the common ML algorithm. We constructed the model for the 3-layer NN using the Keras library and modified the neurons \n",
        "in the hidden layer. We changed the number of hidden layers and the kind of activation function employed in each layer for the deep NN. The complex Recurrent Neural Network Algorithms\n",
        "such as the LSTM, GRUs, and BERT models were then applied to also make predictions on the ranking of the books based on their text reviews."
      ],
      "metadata": {
        "id": "lTZKi144KTeD"
      }
    },
    {
      "cell_type": "code",
      "source": [],
      "metadata": {
        "id": "SF3OhSjxLMps"
      },
      "execution_count": null,
      "outputs": []
    },
    {
      "cell_type": "markdown",
      "source": [
        "## Standard ML Model\n",
        "\n",
        "We have used the Multinomial Naive Bayes algorithm and SGD Classifier as our baseline models which give a validation accuracy of 0.41 and 0.48 respectively."
      ],
      "metadata": {
        "id": "QgmLQEpvLMZS"
      }
    },
    {
      "cell_type": "code",
      "source": [
        "from sklearn.metrics import accuracy_score"
      ],
      "metadata": {
        "id": "IJmrI5IqujuR"
      },
      "execution_count": null,
      "outputs": []
    },
    {
      "cell_type": "code",
      "source": [
        "# Applying the Stanndared 2 ML models \n",
        "\n",
        "# Importing MultinomialNB from sklearn's naive_bayes module and creating an instance of it\n",
        "from sklearn.naive_bayes import MultinomialNB\n",
        "ml1 = MultinomialNB()\n",
        "ml1.fit(x_train, y_train)\n",
        "predict1 = ml1.predict(x_val)\n",
        "acc1 = accuracy_score(y_val, predict1)\n",
        "print(acc1)"
      ],
      "metadata": {
        "colab": {
          "base_uri": "https://localhost:8080/"
        },
        "id": "XNUTE6a7tbEF",
        "outputId": "c8ab73dc-d505-466d-8207-35d3b36ececd"
      },
      "execution_count": null,
      "outputs": [
        {
          "output_type": "stream",
          "name": "stdout",
          "text": [
            "0.406525\n"
          ]
        }
      ]
    },
    {
      "cell_type": "code",
      "source": [
        "# Importing SGDClassifier from sklearn's linear_model module and creating an instance of the SGDClassifier model\n",
        "\n",
        "from sklearn.linear_model import SGDClassifier\n",
        "ml2 = SGDClassifier()\n",
        "ml2.fit(x_train, y_train)\n",
        "predict2 = ml2.predict(x_val)\n",
        "acc2 = accuracy_score(y_val, predict2)\n",
        "print(acc2)"
      ],
      "metadata": {
        "colab": {
          "base_uri": "https://localhost:8080/"
        },
        "id": "2GOqghiuvGs_",
        "outputId": "f38eb224-c1d0-44c9-d20d-cfd499efb24d"
      },
      "execution_count": null,
      "outputs": [
        {
          "output_type": "stream",
          "name": "stdout",
          "text": [
            "0.481175\n"
          ]
        }
      ]
    },
    {
      "cell_type": "code",
      "source": [
        "# SGDClassifier was observed to perform better as confirmed in the metrics"
      ],
      "metadata": {
        "id": "tgIMcT2MLfhb"
      },
      "execution_count": null,
      "outputs": []
    },
    {
      "cell_type": "markdown",
      "source": [
        "# 3-layer Neural Network Baseline Model\n",
        "\n",
        "\n",
        "With varying numbers of neurons in the hidden layer, we built a three-layer NN. With a batch size of 128 over 30 iterations, using 100 neurons for the hidden layer. Eventually,a value of ___ for the training accuracy and ___ for the validation accuracy was the outcome."
      ],
      "metadata": {
        "id": "X8w9T8C5LzvX"
      }
    },
    {
      "cell_type": "code",
      "source": [
        "# Here we had to pre-processed the data by eliminating any extraneous characters like emojis and URLs using the emj_rem, rmvrl and clean functions\n",
        "def emj_rem(txt):\n",
        "  emj = re.compile(\"[\"\n",
        "                           u\"\\U0001F600-\\U0001F64F\"  # emoticons\n",
        "                           u\"\\U0001F300-\\U0001F5FF\"  # symbols & pictographs\n",
        "                           u\"\\U0001F680-\\U0001F6FF\"  # transport & map symbols\n",
        "                           u\"\\U0001F1E0-\\U0001F1FF\"  # flags (iOS)\n",
        "                           u\"\\U00002702-\\U000027B0\"\n",
        "                           u\"\\U000024C2-\\U0001F251\"\n",
        "                           \"]+\", flags=re.UNICODE)\n",
        "  return emj.sub(r'', txt)\n",
        "\n",
        "def rmvurl(txt): \n",
        "    url  = re.compile('http[s]?://(?:[a-zA-Z]|[0-9]|[$-_@.&+]|[!*\\(\\),]|(?:%[0-9a-fA-F][0-9a-fA-F]))+')\n",
        "    return url.sub(r'', txt)\n",
        "\n",
        "def clean(txt): \n",
        "    del_dic = {sp_character: '' for sp_character in string.punctuation} \n",
        "    del_dic[' '] = ' ' \n",
        "    tab = str.maketrans(del_dic)\n",
        "    txt1 = txt.translate(tab)\n",
        "    txtAr= txt1.split()\n",
        "    text2 = ' '.join([w for w in txtAr if ( not w.isdigit() and  ( not w.isdigit() and len(w)>2))]) \n",
        "    \n",
        "    return text2.lower()"
      ],
      "metadata": {
        "id": "VKU4JCrhMoJF"
      },
      "execution_count": null,
      "outputs": []
    },
    {
      "cell_type": "code",
      "source": [
        "# Finding the maximum number of words in a review in the training dataset.\n",
        "data['words_num'] = data.review_text.apply(lambda y:len(str(y).split()))\n",
        "train_max_length = data['words_num'].max()\n",
        "\n",
        "\n",
        "# Pre-processing the review_text data in the training dataset.\n",
        "# First removing the emojis, then removing the URLs and then cleaning the data using some regex patterns.\n",
        "data.review_text = data.review_text.apply(emj_rem)\n",
        "data.review_text = data.review_text.apply(rmvurl)\n",
        "data.review_text = data.review_text.apply(clean)\n",
        "\n",
        "# Finding the maximum number of words in a review in the test dataset.\n",
        "test['words_num'] = test.review_text.apply(lambda y:len(str(y).split()))\n",
        "test_max_length = test['words_num'].max()\n",
        "\n",
        "# Pre-processing the review_text data in the test dataset.\n",
        "# First removing the emojis, then removing the URLs and then cleaning the data using some regex patterns.\n",
        "test.review_text = test.review_text.apply(emj_rem)\n",
        "test.review_text = test.review_text.apply(rmvurl)\n",
        "test.review_text = test.review_text.apply(clean)\n",
        "\n",
        "print('Training data has highest length of: ', train_max_length)\n",
        "print('Testing data has highest length of: ', test_max_length)\n",
        "\n",
        "# Importing necessary libraries and creating a Tokenizer instance\n",
        "from tensorflow.keras.preprocessing.text import Tokenizer\n",
        "from tensorflow.keras.preprocessing.sequence import pad_sequences\n",
        "\n",
        "num_words = 20000\n",
        "\n",
        "tokenizer = Tokenizer(num_words=num_words,oov_token=\"unk\")\n",
        "tokenizer.fit_on_texts(data['review_text'].tolist())\n",
        "\n",
        "\n",
        "# Creating padded sequences for the train, validation and test datasets.\n",
        "x_train = np.array( tokenizer.texts_to_sequences(X_train) )\n",
        "x_valid = np.array( tokenizer.texts_to_sequences(X_valid) )\n",
        "x_test  = np.array( tokenizer.texts_to_sequences(test['review_text'].tolist()) )\n",
        "\n",
        "\n",
        "x_train = pad_sequences(x_train, padding='post', maxlen=40)\n",
        "x_valid = pad_sequences(x_valid, padding='post', maxlen=40)\n",
        "x_test = pad_sequences(x_test, padding='post', maxlen=40)\n",
        "\n",
        "train_ds = tf.data.Dataset.from_tensor_slices((x_train, np.asarray(tf.keras.utils.to_categorical(y_train))))\n",
        "valid_ds = tf.data.Dataset.from_tensor_slices((x_valid, np.asarray(tf.keras.utils.to_categorical(y_valid))))\n",
        "\n"
      ],
      "metadata": {
        "id": "TCATdpCbOv84"
      },
      "execution_count": null,
      "outputs": []
    },
    {
      "cell_type": "code",
      "source": [
        "## Defining the 3 Neural Network Model\n",
        "input = keras.layers.Input(shape=x_train.shape[1:])\n",
        "h1 = keras.layers.Dense(100)(input)\n",
        "h2 = keras.layers.Dense(100)(h1)\n",
        "output = keras.layers.Dense(6)(h2)\n",
        "\n",
        "model = keras.Model(inputs=[input], outputs=[output])\n",
        "model.compile(loss=tf.keras.losses.CategoricalCrossentropy(from_logits=True), optimizer='Nadam', metrics=[\"CategoricalAccuracy\"])"
      ],
      "metadata": {
        "id": "X3jB_THYLmdW"
      },
      "execution_count": null,
      "outputs": []
    },
    {
      "cell_type": "code",
      "source": [
        "epochs = 20\n",
        "# Fit the model using the train and test datasets.\n",
        "\n",
        "history3 = model.fit(train_ds.shuffle(2000).batch(128),\n",
        "                    epochs= epochs ,\n",
        "                    validation_data=valid_ds.batch(128),\n",
        "                    verbose=1)"
      ],
      "metadata": {
        "colab": {
          "base_uri": "https://localhost:8080/"
        },
        "outputId": "c13d8055-13e3-4a08-c257-6f281325efe0",
        "id": "BHm7SrpTLmdW"
      },
      "execution_count": null,
      "outputs": [
        {
          "output_type": "stream",
          "name": "stdout",
          "text": [
            "Epoch 1/20\n",
            "3907/3907 [==============================] - 23s 5ms/step - loss: 323.1269 - categorical_accuracy: 0.2634 - val_loss: 202.0858 - val_categorical_accuracy: 0.2693\n",
            "Epoch 2/20\n",
            "3907/3907 [==============================] - 20s 5ms/step - loss: 78.2637 - categorical_accuracy: 0.2623 - val_loss: 31.7207 - val_categorical_accuracy: 0.2604\n",
            "Epoch 3/20\n",
            "3907/3907 [==============================] - 20s 5ms/step - loss: 9.2278 - categorical_accuracy: 0.2795 - val_loss: 2.4831 - val_categorical_accuracy: 0.2825\n",
            "Epoch 4/20\n",
            "3907/3907 [==============================] - 21s 5ms/step - loss: 3.1831 - categorical_accuracy: 0.2922 - val_loss: 5.3193 - val_categorical_accuracy: 0.2269\n",
            "Epoch 5/20\n",
            "3907/3907 [==============================] - 19s 5ms/step - loss: 3.1757 - categorical_accuracy: 0.2947 - val_loss: 3.1932 - val_categorical_accuracy: 0.2789\n",
            "Epoch 6/20\n",
            "3907/3907 [==============================] - 19s 5ms/step - loss: 3.0578 - categorical_accuracy: 0.3012 - val_loss: 15.5631 - val_categorical_accuracy: 0.3135\n",
            "Epoch 7/20\n",
            "3907/3907 [==============================] - 20s 5ms/step - loss: 2.3617 - categorical_accuracy: 0.3064 - val_loss: 5.7535 - val_categorical_accuracy: 0.3316\n",
            "Epoch 8/20\n",
            "3907/3907 [==============================] - 19s 5ms/step - loss: 1.8692 - categorical_accuracy: 0.3123 - val_loss: 1.6704 - val_categorical_accuracy: 0.3268\n",
            "Epoch 9/20\n",
            "3907/3907 [==============================] - 20s 5ms/step - loss: 1.7072 - categorical_accuracy: 0.3130 - val_loss: 1.6962 - val_categorical_accuracy: 0.2970\n",
            "Epoch 10/20\n",
            "3907/3907 [==============================] - 19s 5ms/step - loss: 1.5725 - categorical_accuracy: 0.3221 - val_loss: 1.4849 - val_categorical_accuracy: 0.3301\n",
            "Epoch 11/20\n",
            "3907/3907 [==============================] - 21s 5ms/step - loss: 1.5748 - categorical_accuracy: 0.3281 - val_loss: 1.4806 - val_categorical_accuracy: 0.3282\n",
            "Epoch 12/20\n",
            "3907/3907 [==============================] - 19s 5ms/step - loss: 1.5037 - categorical_accuracy: 0.3325 - val_loss: 1.8460 - val_categorical_accuracy: 0.3038\n",
            "Epoch 13/20\n",
            "3907/3907 [==============================] - 21s 5ms/step - loss: 1.5861 - categorical_accuracy: 0.3293 - val_loss: 1.5855 - val_categorical_accuracy: 0.3059\n",
            "Epoch 14/20\n",
            "3907/3907 [==============================] - 21s 5ms/step - loss: 1.5505 - categorical_accuracy: 0.3322 - val_loss: 1.4593 - val_categorical_accuracy: 0.3383\n",
            "Epoch 15/20\n",
            "3907/3907 [==============================] - 19s 5ms/step - loss: 1.4939 - categorical_accuracy: 0.3347 - val_loss: 1.4488 - val_categorical_accuracy: 0.3460\n",
            "Epoch 16/20\n",
            "3907/3907 [==============================] - 21s 5ms/step - loss: 1.5416 - categorical_accuracy: 0.3330 - val_loss: 1.4559 - val_categorical_accuracy: 0.3374\n",
            "Epoch 17/20\n",
            "3907/3907 [==============================] - 20s 5ms/step - loss: 1.5177 - categorical_accuracy: 0.3367 - val_loss: 1.4467 - val_categorical_accuracy: 0.3394\n",
            "Epoch 18/20\n",
            "3907/3907 [==============================] - 19s 5ms/step - loss: 1.5497 - categorical_accuracy: 0.3377 - val_loss: 1.4492 - val_categorical_accuracy: 0.3453\n",
            "Epoch 19/20\n",
            "3907/3907 [==============================] - 21s 5ms/step - loss: 1.4905 - categorical_accuracy: 0.3370 - val_loss: 1.4392 - val_categorical_accuracy: 0.3492\n",
            "Epoch 20/20\n",
            "3907/3907 [==============================] - 20s 5ms/step - loss: 1.4618 - categorical_accuracy: 0.3340 - val_loss: 1.4790 - val_categorical_accuracy: 0.3369\n"
          ]
        }
      ]
    },
    {
      "cell_type": "code",
      "source": [],
      "metadata": {
        "id": "k9yFnjxiLk1A"
      },
      "execution_count": null,
      "outputs": []
    },
    {
      "cell_type": "code",
      "source": [
        "# Still do\n",
        "\n",
        "\n",
        "#update 3NN after running for 100 units\n",
        "# increse neurons number and rerun\n",
        "# plot graph\n",
        "\n",
        "#For deep NN increase from 3NN to 4NN and to 5NN and then plot for"
      ],
      "metadata": {
        "id": "q2txT1f8Ukud"
      },
      "execution_count": null,
      "outputs": []
    },
    {
      "cell_type": "markdown",
      "source": [
        "# Deep NN models:\n",
        "\n",
        "For the deep NN which is the extension of the baseline 3 layer NN model,\n",
        "we are increasing the depth of the layer to 4 layers and then 5 layers \n",
        "where we also provide a plot to evaluate and visualize the performance over incresed quantity of layers"
      ],
      "metadata": {
        "id": "pp-mi9_gUvhd"
      }
    },
    {
      "cell_type": "code",
      "source": [
        "## Trying for the 4 layer deeper Neural Network\n",
        "\n",
        "\n",
        "h1 = keras.layers.Dense(100)(input)\n",
        "h2 = keras.layers.Dense(100)(h1)\n",
        "h3 = keras.layers.Dense(100)(h2)\n",
        "output4 = keras.layers.Dense(6)(h3)\n",
        "\n",
        "model4 = keras.Model(inputs=[input], outputs=[output4])\n",
        "model4.compile(loss=tf.keras.losses.CategoricalCrossentropy(from_logits=True), optimizer='Nadam', metrics=[\"CategoricalAccuracy\"])\n",
        "\n",
        "\n",
        "epochs = 20\n",
        "# Fit the model using the train and test datasets.\n",
        "\n",
        "history4 = model.fit(train_ds.shuffle(2000).batch(128),\n",
        "                    epochs= epochs ,\n",
        "                    validation_data=valid_ds.batch(128),\n",
        "                    verbose=1)"
      ],
      "metadata": {
        "colab": {
          "base_uri": "https://localhost:8080/"
        },
        "outputId": "7d4c4624-97b2-4fab-d5c0-298a0f43d41e",
        "id": "MGvwu7-fLmdY"
      },
      "execution_count": null,
      "outputs": [
        {
          "output_type": "stream",
          "name": "stdout",
          "text": [
            "Epoch 1/20\n",
            "3907/3907 [==============================] - 19s 5ms/step - loss: 1.5359 - categorical_accuracy: 0.3348 - val_loss: 1.4418 - val_categorical_accuracy: 0.3462\n",
            "Epoch 2/20\n",
            "3907/3907 [==============================] - 20s 5ms/step - loss: 1.4618 - categorical_accuracy: 0.3349 - val_loss: 1.4829 - val_categorical_accuracy: 0.3396\n",
            "Epoch 3/20\n",
            "3907/3907 [==============================] - 19s 5ms/step - loss: 1.4707 - categorical_accuracy: 0.3314 - val_loss: 1.4782 - val_categorical_accuracy: 0.3334\n",
            "Epoch 4/20\n",
            "3907/3907 [==============================] - 22s 6ms/step - loss: 1.4703 - categorical_accuracy: 0.3321 - val_loss: 1.6402 - val_categorical_accuracy: 0.3348\n",
            "Epoch 5/20\n",
            "3907/3907 [==============================] - 19s 5ms/step - loss: 1.4710 - categorical_accuracy: 0.3317 - val_loss: 1.4990 - val_categorical_accuracy: 0.3353\n",
            "Epoch 6/20\n",
            "3907/3907 [==============================] - 21s 5ms/step - loss: 1.4707 - categorical_accuracy: 0.3322 - val_loss: 1.4843 - val_categorical_accuracy: 0.3279\n",
            "Epoch 7/20\n",
            "3907/3907 [==============================] - 21s 5ms/step - loss: 1.4703 - categorical_accuracy: 0.3312 - val_loss: 1.4858 - val_categorical_accuracy: 0.3316\n",
            "Epoch 8/20\n",
            "3907/3907 [==============================] - 19s 5ms/step - loss: 1.4705 - categorical_accuracy: 0.3314 - val_loss: 1.5014 - val_categorical_accuracy: 0.3291\n",
            "Epoch 9/20\n",
            "3907/3907 [==============================] - 21s 5ms/step - loss: 1.6030 - categorical_accuracy: 0.3325 - val_loss: 1.4515 - val_categorical_accuracy: 0.3421\n",
            "Epoch 10/20\n",
            "3907/3907 [==============================] - 21s 5ms/step - loss: 1.5040 - categorical_accuracy: 0.3385 - val_loss: 1.7459 - val_categorical_accuracy: 0.3315\n",
            "Epoch 11/20\n",
            "3907/3907 [==============================] - 19s 5ms/step - loss: 1.4506 - categorical_accuracy: 0.3385 - val_loss: 1.4855 - val_categorical_accuracy: 0.3236\n",
            "Epoch 12/20\n",
            "3907/3907 [==============================] - 19s 5ms/step - loss: 1.4696 - categorical_accuracy: 0.3314 - val_loss: 1.4825 - val_categorical_accuracy: 0.3189\n",
            "Epoch 13/20\n",
            "3907/3907 [==============================] - 21s 5ms/step - loss: 1.4711 - categorical_accuracy: 0.3320 - val_loss: 1.4938 - val_categorical_accuracy: 0.3317\n",
            "Epoch 14/20\n",
            "3907/3907 [==============================] - 19s 5ms/step - loss: 1.4699 - categorical_accuracy: 0.3316 - val_loss: 1.4922 - val_categorical_accuracy: 0.3333\n",
            "Epoch 15/20\n",
            "3907/3907 [==============================] - 21s 5ms/step - loss: 1.4710 - categorical_accuracy: 0.3317 - val_loss: 1.4965 - val_categorical_accuracy: 0.3233\n",
            "Epoch 16/20\n",
            "3907/3907 [==============================] - 19s 5ms/step - loss: 1.4705 - categorical_accuracy: 0.3318 - val_loss: 1.5169 - val_categorical_accuracy: 0.3232\n",
            "Epoch 17/20\n",
            "3907/3907 [==============================] - 19s 5ms/step - loss: 1.4709 - categorical_accuracy: 0.3319 - val_loss: 1.5154 - val_categorical_accuracy: 0.3346\n",
            "Epoch 18/20\n",
            "3907/3907 [==============================] - 18s 5ms/step - loss: 1.4703 - categorical_accuracy: 0.3323 - val_loss: 1.4890 - val_categorical_accuracy: 0.3277\n",
            "Epoch 19/20\n",
            "3907/3907 [==============================] - 21s 5ms/step - loss: 1.4701 - categorical_accuracy: 0.3319 - val_loss: 1.4988 - val_categorical_accuracy: 0.3241\n",
            "Epoch 20/20\n",
            "3907/3907 [==============================] - 20s 5ms/step - loss: 1.4704 - categorical_accuracy: 0.3314 - val_loss: 1.4817 - val_categorical_accuracy: 0.3194\n"
          ]
        }
      ]
    },
    {
      "cell_type": "code",
      "source": [
        "## Trying for the 5 layer deeper Neural Network\n",
        "\n",
        "\n",
        "h1 = keras.layers.Dense(100)(input)\n",
        "h2 = keras.layers.Dense(100)(h1)\n",
        "h3 = keras.layers.Dense(100)(h2)\n",
        "h4 = keras.layers.Dense(100)(h3)\n",
        "output5 = keras.layers.Dense(6)(h4)\n",
        "\n",
        "model5 = keras.Model(inputs=[input], outputs=[output5])\n",
        "model5.compile(loss=tf.keras.losses.CategoricalCrossentropy(from_logits=True), optimizer='Nadam', metrics=[\"CategoricalAccuracy\"])\n",
        "\n",
        "epochs = 20\n",
        "# Fit the model using the train and test datasets.\n",
        "\n",
        "history5 = model.fit(train_ds.shuffle(2000).batch(128),\n",
        "                    epochs= epochs ,\n",
        "                    validation_data=valid_ds.batch(128),\n",
        "                    verbose=1)"
      ],
      "metadata": {
        "colab": {
          "base_uri": "https://localhost:8080/"
        },
        "outputId": "6dfce91a-3e35-4487-9337-63e36faaaf54",
        "id": "4IZXDHXeLmdZ"
      },
      "execution_count": null,
      "outputs": [
        {
          "output_type": "stream",
          "name": "stdout",
          "text": [
            "Epoch 1/20\n",
            "3907/3907 [==============================] - 18s 5ms/step - loss: 1.4702 - categorical_accuracy: 0.3317 - val_loss: 1.4779 - val_categorical_accuracy: 0.3267\n",
            "Epoch 2/20\n",
            "3907/3907 [==============================] - 22s 6ms/step - loss: 1.4708 - categorical_accuracy: 0.3319 - val_loss: 1.4727 - val_categorical_accuracy: 0.3373\n",
            "Epoch 3/20\n",
            "3907/3907 [==============================] - 21s 5ms/step - loss: 1.4700 - categorical_accuracy: 0.3314 - val_loss: 1.4637 - val_categorical_accuracy: 0.3307\n",
            "Epoch 4/20\n",
            "3907/3907 [==============================] - 21s 5ms/step - loss: 1.4708 - categorical_accuracy: 0.3315 - val_loss: 1.4711 - val_categorical_accuracy: 0.3327\n",
            "Epoch 5/20\n",
            "3907/3907 [==============================] - 18s 5ms/step - loss: 1.4708 - categorical_accuracy: 0.3315 - val_loss: 1.4852 - val_categorical_accuracy: 0.3288\n",
            "Epoch 6/20\n",
            "3907/3907 [==============================] - 20s 5ms/step - loss: 1.4701 - categorical_accuracy: 0.3318 - val_loss: 1.5396 - val_categorical_accuracy: 0.3064\n",
            "Epoch 7/20\n",
            "3907/3907 [==============================] - 20s 5ms/step - loss: 1.4709 - categorical_accuracy: 0.3316 - val_loss: 1.4883 - val_categorical_accuracy: 0.3412\n",
            "Epoch 8/20\n",
            "3907/3907 [==============================] - 19s 5ms/step - loss: 1.4703 - categorical_accuracy: 0.3322 - val_loss: 1.4584 - val_categorical_accuracy: 0.3418\n",
            "Epoch 9/20\n",
            "3907/3907 [==============================] - 19s 5ms/step - loss: 1.4701 - categorical_accuracy: 0.3318 - val_loss: 1.4875 - val_categorical_accuracy: 0.3210\n",
            "Epoch 10/20\n",
            "3907/3907 [==============================] - 19s 5ms/step - loss: 1.4702 - categorical_accuracy: 0.3314 - val_loss: 1.5305 - val_categorical_accuracy: 0.3079\n",
            "Epoch 11/20\n",
            "3907/3907 [==============================] - 21s 5ms/step - loss: 1.4700 - categorical_accuracy: 0.3317 - val_loss: 1.5097 - val_categorical_accuracy: 0.3189\n",
            "Epoch 12/20\n",
            "3907/3907 [==============================] - 19s 5ms/step - loss: 1.4706 - categorical_accuracy: 0.3319 - val_loss: 1.4728 - val_categorical_accuracy: 0.3314\n",
            "Epoch 13/20\n",
            "3907/3907 [==============================] - 21s 5ms/step - loss: 1.4697 - categorical_accuracy: 0.3318 - val_loss: 1.5155 - val_categorical_accuracy: 0.3194\n",
            "Epoch 14/20\n",
            "3907/3907 [==============================] - 19s 5ms/step - loss: 1.4709 - categorical_accuracy: 0.3315 - val_loss: 1.4791 - val_categorical_accuracy: 0.3319\n",
            "Epoch 15/20\n",
            "3907/3907 [==============================] - 20s 5ms/step - loss: 1.4701 - categorical_accuracy: 0.3313 - val_loss: 1.4944 - val_categorical_accuracy: 0.3285\n",
            "Epoch 16/20\n",
            "3907/3907 [==============================] - 19s 5ms/step - loss: 1.4704 - categorical_accuracy: 0.3315 - val_loss: 1.4721 - val_categorical_accuracy: 0.3290\n",
            "Epoch 17/20\n",
            "3907/3907 [==============================] - 19s 5ms/step - loss: 1.4705 - categorical_accuracy: 0.3316 - val_loss: 1.5028 - val_categorical_accuracy: 0.3260\n",
            "Epoch 18/20\n",
            "3907/3907 [==============================] - 20s 5ms/step - loss: 1.4704 - categorical_accuracy: 0.3314 - val_loss: 1.5014 - val_categorical_accuracy: 0.3225\n",
            "Epoch 19/20\n",
            "3907/3907 [==============================] - 19s 5ms/step - loss: 1.4702 - categorical_accuracy: 0.3320 - val_loss: 1.4760 - val_categorical_accuracy: 0.3254\n",
            "Epoch 20/20\n",
            "3907/3907 [==============================] - 21s 5ms/step - loss: 1.4706 - categorical_accuracy: 0.3316 - val_loss: 1.4992 - val_categorical_accuracy: 0.3169\n"
          ]
        }
      ]
    },
    {
      "cell_type": "markdown",
      "source": [
        "### The following displays the visual  representation of the effect of addition of more layers on the performance"
      ],
      "metadata": {
        "id": "v2iFDEoEgKA1"
      }
    },
    {
      "cell_type": "code",
      "source": [
        "import matplotlib.pyplot as plt\n",
        "\n",
        "acc_3 = history3.history['val_categorical_accuracy']\n",
        "acc_4 = history4.history['val_categorical_accuracy']\n",
        "acc_5 = history5.history['val_categorical_accuracy']\n",
        "\n",
        "epochs = range(1, len(acc_3) + 1)\n",
        "\n",
        "plt.plot(epochs, acc_3, 'b', label='3 Layers')\n",
        "plt.plot(epochs, acc_4, 'g', label='4 Layers')\n",
        "plt.plot(epochs, acc_5, 'r', label='5 Layers')\n",
        "plt.title('Validation Accuracy vs. Number of Layers')\n",
        "plt.xlabel('Epochs')\n",
        "plt.ylabel('Validation Accuracy')\n",
        "plt.legend()\n",
        "plt.show()"
      ],
      "metadata": {
        "colab": {
          "base_uri": "https://localhost:8080/",
          "height": 472
        },
        "id": "3t2FFhAZjUUd",
        "outputId": "33025614-57e8-445e-baa5-1278cefe65ed"
      },
      "execution_count": null,
      "outputs": [
        {
          "output_type": "display_data",
          "data": {
            "text/plain": [
              "<Figure size 640x480 with 1 Axes>"
            ],
            "image/png": "[encoded data removed]"
          },
          "metadata": {}
        }
      ]
    },
    {
      "cell_type": "markdown",
      "source": [
        "Ovver 20 epochs, it was noticed that even extending deeper (appending more layers) when implementing Neural Network for the Goodread Classification task \n",
        "did not help improve the performance of the model generally. The accuracy over the iterations were almost in same range for both 4 layer and 5 layer models \n",
        "as compared to the 3 layer model that hand a faily increasing trend "
      ],
      "metadata": {
        "id": "rI5eKDJHRR0n"
      }
    },
    {
      "cell_type": "markdown",
      "source": [
        "### Observing how different activations functions affect the performance for the 5 layer NN. "
      ],
      "metadata": {
        "id": "cNZUhcwua7bU"
      }
    },
    {
      "cell_type": "code",
      "source": [
        "\n",
        "print('Implementing relu activation function')\n",
        "\n",
        "#input_a = keras.layers.Input(shape=x_train.shape[1:])\n",
        "h1 = keras.layers.Dense(100, activation='relu')(input)\n",
        "h2 = keras.layers.Dense(100, activation='relu')(h1)\n",
        "h3 = keras.layers.Dense(100, activation='relu')(h2)\n",
        "h4 = keras.layers.Dense(100, activation='relu')(h3)\n",
        "output_a = keras.layers.Dense(6, activation='softmax')(h4)\n",
        "\n",
        "model_relu = keras.Model(inputs=[input], outputs=[output_a])\n",
        "model_relu.compile(loss=tf.keras.losses.CategoricalCrossentropy(from_logits=True), optimizer='Nadam', metrics=[\"CategoricalAccuracy\"])\n",
        "\n",
        "epochs = 10\n",
        "# Fit the model using the train and test datasets.\n",
        "\n",
        "history_relu = model.fit(train_ds.shuffle(2000).batch(128),\n",
        "                    epochs= epochs ,\n",
        "                    validation_data=valid_ds.batch(128),\n",
        "                    verbose=1)\n",
        "\n",
        "print('Implementing tanh activation function')\n",
        "\n",
        "#input_b = keras.layers.Input(shape=x_train.shape[1:])\n",
        "h1 = keras.layers.Dense(100, activation='tanh')(input)\n",
        "h2 = keras.layers.Dense(100, activation='tanh')(h1)\n",
        "h3 = keras.layers.Dense(100, activation='tanh')(h2)\n",
        "h4 = keras.layers.Dense(100, activation='tanh')(h3)\n",
        "output_b = keras.layers.Dense(6, activation='softmax')(h4)\n",
        "\n",
        "model_mix = keras.Model(inputs=[input], outputs=[output_b])\n",
        "model_mix.compile(loss=tf.keras.losses.CategoricalCrossentropy(from_logits=True), optimizer='Nadam', metrics=[\"CategoricalAccuracy\"])\n",
        "\n",
        "epochs = 10\n",
        "# Fit the model using the train and test datasets.\n",
        "\n",
        "history_mix = model.fit(train_ds.shuffle(2000).batch(128),\n",
        "                    epochs= epochs ,\n",
        "                    validation_data=valid_ds.batch(128),\n",
        "                    verbose=1)\n",
        "\n",
        "\n",
        "print('Implementing elu activation function')\n",
        "\n",
        "#input_c = keras.layers.Input(shape=x_train.shape[1:])\n",
        "h1 = keras.layers.Dense(100, activation='elu')(input)\n",
        "h2 = keras.layers.Dense(100, activation='elu')(h1)\n",
        "h3 = keras.layers.Dense(100, activation='elu')(h2)\n",
        "h4 = keras.layers.Dense(100, activation='elu')(h3)\n",
        "output_c = keras.layers.Dense(6, activation='softmax')(h4)\n",
        "\n",
        "model_elu = keras.Model(inputs=[input], outputs=[output_c])\n",
        "model_elu.compile(loss=tf.keras.losses.CategoricalCrossentropy(from_logits=True), optimizer='Nadam', metrics=[\"CategoricalAccuracy\"])\n",
        "\n",
        "epochs = 10\n",
        "# Fit the model using the train and test datasets.\n",
        "\n",
        "history_elu = model.fit(train_ds.shuffle(2000).batch(128),\n",
        "                    epochs= epochs ,\n",
        "                    validation_data=valid_ds.batch(128),\n",
        "                    verbose=1)\n"
      ],
      "metadata": {
        "colab": {
          "base_uri": "https://localhost:8080/"
        },
        "outputId": "d52e93ef-1010-4ee8-a10d-a75dba28ca15",
        "id": "Nwj54Tm-OD4I"
      },
      "execution_count": null,
      "outputs": [
        {
          "output_type": "stream",
          "name": "stdout",
          "text": [
            "Implementing relu activation function\n",
            "Epoch 1/10\n",
            "3907/3907 [==============================] - 19s 5ms/step - loss: 1.4710 - categorical_accuracy: 0.3315 - val_loss: 1.5226 - val_categorical_accuracy: 0.3172\n",
            "Epoch 2/10\n",
            "3907/3907 [==============================] - 19s 5ms/step - loss: 1.4701 - categorical_accuracy: 0.3318 - val_loss: 1.4883 - val_categorical_accuracy: 0.3216\n",
            "Epoch 3/10\n",
            "3907/3907 [==============================] - 21s 5ms/step - loss: 1.4701 - categorical_accuracy: 0.3319 - val_loss: 1.4772 - val_categorical_accuracy: 0.3434\n",
            "Epoch 4/10\n",
            "3907/3907 [==============================] - 19s 5ms/step - loss: 1.4700 - categorical_accuracy: 0.3310 - val_loss: 1.4909 - val_categorical_accuracy: 0.3337\n",
            "Epoch 5/10\n",
            "3907/3907 [==============================] - 19s 5ms/step - loss: 1.4702 - categorical_accuracy: 0.3313 - val_loss: 1.4583 - val_categorical_accuracy: 0.3413\n",
            "Epoch 6/10\n",
            "3907/3907 [==============================] - 21s 5ms/step - loss: 1.4709 - categorical_accuracy: 0.3315 - val_loss: 1.4759 - val_categorical_accuracy: 0.3250\n",
            "Epoch 7/10\n",
            "3907/3907 [==============================] - 19s 5ms/step - loss: 1.4701 - categorical_accuracy: 0.3322 - val_loss: 1.4994 - val_categorical_accuracy: 0.3191\n",
            "Epoch 8/10\n",
            "3907/3907 [==============================] - 20s 5ms/step - loss: 1.4708 - categorical_accuracy: 0.3316 - val_loss: 1.4719 - val_categorical_accuracy: 0.3303\n",
            "Epoch 9/10\n",
            "3907/3907 [==============================] - 19s 5ms/step - loss: 1.4704 - categorical_accuracy: 0.3318 - val_loss: 1.4848 - val_categorical_accuracy: 0.3339\n",
            "Epoch 10/10\n",
            "3907/3907 [==============================] - 20s 5ms/step - loss: 1.4701 - categorical_accuracy: 0.3318 - val_loss: 1.4720 - val_categorical_accuracy: 0.3349\n",
            "Implementing tanh activation function\n",
            "Epoch 1/10\n",
            "3907/3907 [==============================] - 19s 5ms/step - loss: 1.4712 - categorical_accuracy: 0.3310 - val_loss: 1.4518 - val_categorical_accuracy: 0.3374\n",
            "Epoch 2/10\n",
            "3907/3907 [==============================] - 18s 5ms/step - loss: 1.4701 - categorical_accuracy: 0.3320 - val_loss: 1.4822 - val_categorical_accuracy: 0.3324\n",
            "Epoch 3/10\n",
            "3907/3907 [==============================] - 20s 5ms/step - loss: 1.4702 - categorical_accuracy: 0.3319 - val_loss: 1.4818 - val_categorical_accuracy: 0.3342\n",
            "Epoch 4/10\n",
            "3907/3907 [==============================] - 18s 5ms/step - loss: 1.4696 - categorical_accuracy: 0.3317 - val_loss: 1.4971 - val_categorical_accuracy: 0.3220\n",
            "Epoch 5/10\n",
            "3907/3907 [==============================] - 24s 6ms/step - loss: 1.4709 - categorical_accuracy: 0.3324 - val_loss: 1.5235 - val_categorical_accuracy: 0.3155\n",
            "Epoch 6/10\n",
            "3907/3907 [==============================] - 24s 6ms/step - loss: 1.4700 - categorical_accuracy: 0.3320 - val_loss: 1.5269 - val_categorical_accuracy: 0.3190\n",
            "Epoch 7/10\n",
            "3907/3907 [==============================] - 18s 5ms/step - loss: 1.4709 - categorical_accuracy: 0.3314 - val_loss: 1.4705 - val_categorical_accuracy: 0.3296\n",
            "Epoch 8/10\n",
            "3907/3907 [==============================] - 18s 5ms/step - loss: 1.4699 - categorical_accuracy: 0.3320 - val_loss: 1.4926 - val_categorical_accuracy: 0.3252\n",
            "Epoch 9/10\n",
            "3907/3907 [==============================] - 26s 7ms/step - loss: 1.4706 - categorical_accuracy: 0.3317 - val_loss: 1.4867 - val_categorical_accuracy: 0.3274\n",
            "Epoch 10/10\n",
            "3907/3907 [==============================] - 21s 5ms/step - loss: 1.4704 - categorical_accuracy: 0.3321 - val_loss: 1.4841 - val_categorical_accuracy: 0.3308\n",
            "Implementing elu activation function\n",
            "Epoch 1/10\n",
            "3907/3907 [==============================] - 19s 5ms/step - loss: 1.4705 - categorical_accuracy: 0.3324 - val_loss: 1.5042 - val_categorical_accuracy: 0.3344\n",
            "Epoch 2/10\n",
            "3907/3907 [==============================] - 20s 5ms/step - loss: 1.4710 - categorical_accuracy: 0.3319 - val_loss: 1.4977 - val_categorical_accuracy: 0.3238\n",
            "Epoch 3/10\n",
            "3907/3907 [==============================] - 19s 5ms/step - loss: 1.4694 - categorical_accuracy: 0.3320 - val_loss: 1.5006 - val_categorical_accuracy: 0.3261\n",
            "Epoch 4/10\n",
            "3907/3907 [==============================] - 18s 5ms/step - loss: 1.4707 - categorical_accuracy: 0.3317 - val_loss: 1.4793 - val_categorical_accuracy: 0.3310\n",
            "Epoch 5/10\n",
            "3907/3907 [==============================] - 20s 5ms/step - loss: 1.4704 - categorical_accuracy: 0.3319 - val_loss: 1.5019 - val_categorical_accuracy: 0.3385\n",
            "Epoch 6/10\n",
            "3907/3907 [==============================] - 20s 5ms/step - loss: 1.4702 - categorical_accuracy: 0.3322 - val_loss: 1.5399 - val_categorical_accuracy: 0.3149\n",
            "Epoch 7/10\n",
            "3907/3907 [==============================] - 21s 5ms/step - loss: 1.4703 - categorical_accuracy: 0.3320 - val_loss: 1.4633 - val_categorical_accuracy: 0.3406\n",
            "Epoch 8/10\n",
            "3907/3907 [==============================] - 18s 5ms/step - loss: 1.4704 - categorical_accuracy: 0.3314 - val_loss: 1.4741 - val_categorical_accuracy: 0.3374\n",
            "Epoch 9/10\n",
            "3907/3907 [==============================] - 19s 5ms/step - loss: 1.4709 - categorical_accuracy: 0.3317 - val_loss: 1.4833 - val_categorical_accuracy: 0.3268\n",
            "Epoch 10/10\n",
            "3907/3907 [==============================] - 21s 5ms/step - loss: 1.4703 - categorical_accuracy: 0.3322 - val_loss: 1.5313 - val_categorical_accuracy: 0.3241\n"
          ]
        }
      ]
    },
    {
      "cell_type": "code",
      "source": [],
      "metadata": {
        "id": "gLDGznKdODCz"
      },
      "execution_count": null,
      "outputs": []
    },
    {
      "cell_type": "markdown",
      "source": [
        "### Plotting the performance while implementing different activations as seen below:"
      ],
      "metadata": {
        "id": "yIA--moIan7R"
      }
    },
    {
      "cell_type": "code",
      "source": [
        "import matplotlib.pyplot as plt\n",
        "\n",
        "acc_relu = history_relu.history['val_categorical_accuracy'][:3]\n",
        "acc_mix = history_mix.history['val_categorical_accuracy'][:3]\n",
        "acc_elu = history_elu.history['val_categorical_accuracy'][:3]\n",
        "\n",
        "plt.bar(['Model ReLU', 'Model tanh', 'Model ELU'], [acc_relu[-1], acc_mix[-1], acc_elu[-1]])\n",
        "plt.ylabel('Accuracy')\n",
        "plt.title('Validation Accuracy after 3 epochs')\n",
        "plt.show()\n"
      ],
      "metadata": {
        "colab": {
          "base_uri": "https://localhost:8080/",
          "height": 452
        },
        "id": "1sJvcuukjfnN",
        "outputId": "0f0ae16e-f81e-41f2-b7f2-15d20c52da13"
      },
      "execution_count": null,
      "outputs": [
        {
          "output_type": "display_data",
          "data": {
            "text/plain": [
              "<Figure size 640x480 with 1 Axes>"
            ],
            "image/png": "[encoded data removed]"
          },
          "metadata": {}
        }
      ]
    },
    {
      "cell_type": "markdown",
      "source": [
        "Based on the observation on the results, it can be deduced that when implementing deeper neural networks, \n",
        "the use of the rectified linear unit (ReLu) activation function results in superior model performance compared to other activation functions.\n",
        "which may be due to the fact that ReLU does not suffer from the Vanishing gradient descent problem as it has a constant gradient for positive input values\n",
        "unlike using activation functions such as tanh and elu.\n"
      ],
      "metadata": {
        "id": "iClkZYJn-teQ"
      }
    },
    {
      "cell_type": "markdown",
      "source": [
        "# Complex Neural Network \n"
      ],
      "metadata": {
        "id": "zuuzf6JCcPsT"
      }
    },
    {
      "cell_type": "markdown",
      "source": [
        "Complex neural networks contain more complex structures and operations  as compared to the other convention models applied earlier in this report, \n",
        "enabling them to characterise complex patterns as well as relationships in data.\n",
        "\n",
        "Recurrent neural network (RNN) types like LSTM and GRU, for instance, feature memory cells and gates that let them distinguish long-term dependencies\n",
        " in sequential input like English sentences or time series. On the contrary, the BERT type of transformer model makes use of self-attention processes\n",
        "  to encode the context of each word in a phrase, which eventually produces strong language representation.\n",
        "\n",
        "The implementation of the Complex models are shown accordingly, displaying their performance over several iterations for different configurations "
      ],
      "metadata": {
        "id": "XSrnGUkCccCh"
      }
    },
    {
      "cell_type": "markdown",
      "source": [
        "### LSTM"
      ],
      "metadata": {
        "id": "5SscHlfYcavQ"
      }
    },
    {
      "cell_type": "markdown",
      "source": [
        "The libraries such as pandas, numpy, and various modules from sklearn, keras and tensorflow that have been imported at the beginning of the report are also used here.\n",
        "\n",
        "The already cleaned data by the defined functions (emj_rem, rmvurl, and clean) were also needed and were leveraged \n",
        "\n",
        "Text data were also preprocessed using Tokenizer and pad_sequences functions from tensorflow\n",
        "\n",
        "Then the Bidirectional LSTM neural network model with batch normalization and dropout layers using Keras was created for the classification.\n",
        "\n",
        "So our model is trained the training set, validated on the validation set, before the predictions are finally generated "
      ],
      "metadata": {
        "id": "Iw-nydM2stbg"
      }
    },
    {
      "cell_type": "code",
      "source": [
        "from tensorflow.keras.preprocessing.text import Tokenizer\n",
        "from tensorflow.keras.preprocessing.sequence import pad_sequences\n",
        "\n",
        "num_words = 20000\n",
        "\n",
        "tokenizer = Tokenizer(num_words=num_words,oov_token=\"unk\")\n",
        "tokenizer.fit_on_texts(data['review_text'].tolist())"
      ],
      "metadata": {
        "id": "Avgte_lhrQL4"
      },
      "execution_count": null,
      "outputs": []
    },
    {
      "cell_type": "code",
      "source": [
        "X_train, X_valid, y_train, y_valid = train_test_split(data.review_text.tolist(), data.rating.tolist(), test_size=0.285714)"
      ],
      "metadata": {
        "id": "w9H8unAUrQL7"
      },
      "execution_count": null,
      "outputs": []
    },
    {
      "cell_type": "code",
      "source": [
        "## Preprocessing the text data\n",
        "\n",
        "x_train = np.array( tokenizer.texts_to_sequences(X_train) )\n",
        "x_valid = np.array( tokenizer.texts_to_sequences(X_valid) )\n",
        "x_test  = np.array( tokenizer.texts_to_sequences(test['review_text'].tolist()) )\n",
        "\n",
        "\n",
        "\n",
        "x_train = pad_sequences(x_train, padding='post', maxlen=40)\n",
        "x_valid = pad_sequences(x_valid, padding='post', maxlen=40)\n",
        "x_test = pad_sequences(x_test, padding='post', maxlen=40)"
      ],
      "metadata": {
        "colab": {
          "base_uri": "https://localhost:8080/"
        },
        "outputId": "c0c6d29d-b3a4-44fa-ff98-8e30cc24a033",
        "id": "6FvfsVmIrQL7"
      },
      "execution_count": null,
      "outputs": [
        {
          "output_type": "stream",
          "name": "stderr",
          "text": [
            "<ipython-input-13-7ddd314c7987>:1: VisibleDeprecationWarning: Creating an ndarray from ragged nested sequences (which is a list-or-tuple of lists-or-tuples-or ndarrays with different lengths or shapes) is deprecated. If you meant to do this, you must specify 'dtype=object' when creating the ndarray.\n",
            "  x_train = np.array( tokenizer.texts_to_sequences(X_train) )\n",
            "<ipython-input-13-7ddd314c7987>:2: VisibleDeprecationWarning: Creating an ndarray from ragged nested sequences (which is a list-or-tuple of lists-or-tuples-or ndarrays with different lengths or shapes) is deprecated. If you meant to do this, you must specify 'dtype=object' when creating the ndarray.\n",
            "  x_valid = np.array( tokenizer.texts_to_sequences(X_valid) )\n",
            "<ipython-input-13-7ddd314c7987>:3: VisibleDeprecationWarning: Creating an ndarray from ragged nested sequences (which is a list-or-tuple of lists-or-tuples-or ndarrays with different lengths or shapes) is deprecated. If you meant to do this, you must specify 'dtype=object' when creating the ndarray.\n",
            "  x_test  = np.array( tokenizer.texts_to_sequences(test['review_text'].tolist()) )\n"
          ]
        }
      ]
    },
    {
      "cell_type": "code",
      "source": [
        "train_ds = tf.data.Dataset.from_tensor_slices((x_train, np.asarray(tf.keras.utils.to_categorical(y_train))))\n",
        "valid_ds = tf.data.Dataset.from_tensor_slices((x_valid, np.asarray(tf.keras.utils.to_categorical(y_valid))))"
      ],
      "metadata": {
        "id": "Mknexl1XrQL8"
      },
      "execution_count": null,
      "outputs": []
    },
    {
      "cell_type": "code",
      "source": [
        "## Building the model\n",
        "\n",
        "# The accuracy metrics implemented here are categorical cross-entropy loss and categorical accuracy. \n",
        "# The number of epochs is also set to 30. \n",
        "\n",
        "from tensorflow.keras import regularizers\n",
        "max_features =20000\n",
        "embedding_dim =64\n",
        "sequence_length = 40\n",
        "\n",
        "model = tf.keras.Sequential()\n",
        "model.add(tf.keras.layers.Embedding(max_features +1, embedding_dim, input_length=sequence_length,\\\n",
        "                                    embeddings_regularizer = regularizers.l2(0.0005)))                                    \n",
        "\n",
        "model.add(tf.keras.layers.Bidirectional(tf.keras.layers.LSTM(units=64, return_sequences=True)))\n",
        "model.add(tf.keras.layers.BatchNormalization())\n",
        "model.add(tf.keras.layers.Dropout(0.2))\n",
        "\n",
        "model.add(tf.keras.layers.Bidirectional(tf.keras.layers.LSTM(units=128)))\n",
        "model.add(tf.keras.layers.BatchNormalization())\n",
        "model.add(tf.keras.layers.Dropout(0.2))\n",
        "\n",
        "model.add(tf.keras.layers.Dense(units=32, activation=\"relu\"))\n",
        "model.add(tf.keras.layers.BatchNormalization())\n",
        "model.add(tf.keras.layers.Dropout(0.2))\n",
        "\n",
        "model.add(tf.keras.layers.Dense(6, activation='softmax',\\\n",
        "                                kernel_regularizer=regularizers.l2(0.001),\\\n",
        "                                bias_regularizer=regularizers.l2(0.001),))\n",
        "\n",
        "model.compile(loss=tf.keras.losses.CategoricalCrossentropy(from_logits=True), optimizer='Nadam', metrics=[\"CategoricalAccuracy\"])"
      ],
      "metadata": {
        "id": "mzwrrQvnrQL9"
      },
      "execution_count": null,
      "outputs": []
    },
    {
      "cell_type": "code",
      "source": [
        "epochs = 30\n",
        "# Fit the model using the train and test datasets.\n",
        "#history = model.fit(x_train, train_labels,validation_data= (x_test,test_labels),epochs=epochs )\n",
        "history = model.fit(train_ds.shuffle(2000).batch(128),\n",
        "                    epochs= epochs ,\n",
        "                    validation_data=valid_ds.batch(128),\n",
        "                    verbose=1)"
      ],
      "metadata": {
        "colab": {
          "base_uri": "https://localhost:8080/"
        },
        "outputId": "80e297d9-fdac-4e59-bf2f-8ded658ad80b",
        "id": "IUl4vCxbrQL9"
      },
      "execution_count": null,
      "outputs": [
        {
          "output_type": "stream",
          "name": "stdout",
          "text": [
            "Epoch 1/30\n"
          ]
        },
        {
          "output_type": "stream",
          "name": "stderr",
          "text": [
            "/usr/local/lib/python3.9/dist-packages/keras/backend.py:5561: UserWarning: \"`categorical_crossentropy` received `from_logits=True`, but the `output` argument was produced by a Softmax activation and thus does not represent logits. Was this intended?\n",
            "  output, from_logits = _get_logits(\n"
          ]
        },
        {
          "output_type": "stream",
          "name": "stdout",
          "text": [
            "3907/3907 [==============================] - 113s 24ms/step - loss: 1.2931 - categorical_accuracy: 0.4774 - val_loss: 1.2043 - val_categorical_accuracy: 0.5073\n",
            "Epoch 2/30\n",
            "3907/3907 [==============================] - 92s 24ms/step - loss: 1.2014 - categorical_accuracy: 0.5076 - val_loss: 1.1780 - val_categorical_accuracy: 0.5172\n",
            "Epoch 3/30\n",
            "3907/3907 [==============================] - 93s 24ms/step - loss: 1.1815 - categorical_accuracy: 0.5166 - val_loss: 1.2049 - val_categorical_accuracy: 0.5029\n",
            "Epoch 4/30\n",
            "3907/3907 [==============================] - 93s 24ms/step - loss: 1.1696 - categorical_accuracy: 0.5224 - val_loss: 1.1622 - val_categorical_accuracy: 0.5249\n",
            "Epoch 5/30\n",
            "3907/3907 [==============================] - 92s 24ms/step - loss: 1.1622 - categorical_accuracy: 0.5265 - val_loss: 1.1588 - val_categorical_accuracy: 0.5271\n",
            "Epoch 6/30\n",
            "3907/3907 [==============================] - 92s 24ms/step - loss: 1.1564 - categorical_accuracy: 0.5294 - val_loss: 1.1566 - val_categorical_accuracy: 0.5287\n",
            "Epoch 7/30\n",
            "3907/3907 [==============================] - 91s 23ms/step - loss: 1.1523 - categorical_accuracy: 0.5328 - val_loss: 1.1611 - val_categorical_accuracy: 0.5274\n",
            "Epoch 8/30\n",
            "3907/3907 [==============================] - 93s 24ms/step - loss: 1.1485 - categorical_accuracy: 0.5352 - val_loss: 1.1623 - val_categorical_accuracy: 0.5284\n",
            "Epoch 9/30\n",
            "3907/3907 [==============================] - 91s 23ms/step - loss: 1.1464 - categorical_accuracy: 0.5377 - val_loss: 1.1585 - val_categorical_accuracy: 0.5313\n",
            "Epoch 10/30\n",
            "3907/3907 [==============================] - 93s 24ms/step - loss: 1.1437 - categorical_accuracy: 0.5397 - val_loss: 1.1550 - val_categorical_accuracy: 0.5339\n",
            "Epoch 11/30\n",
            "3907/3907 [==============================] - 91s 23ms/step - loss: 1.1416 - categorical_accuracy: 0.5419 - val_loss: 1.1871 - val_categorical_accuracy: 0.5211\n",
            "Epoch 12/30\n",
            "3907/3907 [==============================] - 91s 23ms/step - loss: 1.1387 - categorical_accuracy: 0.5433 - val_loss: 1.1645 - val_categorical_accuracy: 0.5318\n",
            "Epoch 13/30\n",
            "3907/3907 [==============================] - 92s 23ms/step - loss: 1.1381 - categorical_accuracy: 0.5442 - val_loss: 1.1685 - val_categorical_accuracy: 0.5284\n",
            "Epoch 14/30\n",
            "3907/3907 [==============================] - 89s 23ms/step - loss: 1.1361 - categorical_accuracy: 0.5454 - val_loss: 1.1689 - val_categorical_accuracy: 0.5306\n",
            "Epoch 15/30\n",
            "3907/3907 [==============================] - 91s 23ms/step - loss: 1.1343 - categorical_accuracy: 0.5466 - val_loss: 1.1783 - val_categorical_accuracy: 0.5279\n",
            "Epoch 16/30\n",
            "3907/3907 [==============================] - 88s 23ms/step - loss: 1.1326 - categorical_accuracy: 0.5480 - val_loss: 1.1750 - val_categorical_accuracy: 0.5288\n",
            "Epoch 17/30\n",
            "3907/3907 [==============================] - 89s 23ms/step - loss: 1.1315 - categorical_accuracy: 0.5500 - val_loss: 1.1777 - val_categorical_accuracy: 0.5263\n",
            "Epoch 18/30\n",
            "3907/3907 [==============================] - 91s 23ms/step - loss: 1.1291 - categorical_accuracy: 0.5512 - val_loss: 1.1767 - val_categorical_accuracy: 0.5324\n",
            "Epoch 19/30\n",
            "3907/3907 [==============================] - 89s 23ms/step - loss: 1.1281 - categorical_accuracy: 0.5517 - val_loss: 1.1745 - val_categorical_accuracy: 0.5296\n",
            "Epoch 20/30\n",
            "3907/3907 [==============================] - 91s 23ms/step - loss: 1.1272 - categorical_accuracy: 0.5525 - val_loss: 1.1903 - val_categorical_accuracy: 0.5282\n",
            "Epoch 21/30\n",
            "3907/3907 [==============================] - 91s 23ms/step - loss: 1.1258 - categorical_accuracy: 0.5534 - val_loss: 1.1749 - val_categorical_accuracy: 0.5326\n",
            "Epoch 22/30\n",
            "3907/3907 [==============================] - 90s 23ms/step - loss: 1.1234 - categorical_accuracy: 0.5547 - val_loss: 1.1889 - val_categorical_accuracy: 0.5282\n",
            "Epoch 23/30\n",
            "3907/3907 [==============================] - 94s 24ms/step - loss: 1.1236 - categorical_accuracy: 0.5550 - val_loss: 1.1818 - val_categorical_accuracy: 0.5293\n",
            "Epoch 24/30\n",
            "3907/3907 [==============================] - 92s 24ms/step - loss: 1.1214 - categorical_accuracy: 0.5565 - val_loss: 1.1772 - val_categorical_accuracy: 0.5329\n",
            "Epoch 25/30\n",
            "3907/3907 [==============================] - 92s 23ms/step - loss: 1.1205 - categorical_accuracy: 0.5575 - val_loss: 1.1828 - val_categorical_accuracy: 0.5298\n",
            "Epoch 26/30\n",
            "3907/3907 [==============================] - 90s 23ms/step - loss: 1.1186 - categorical_accuracy: 0.5580 - val_loss: 1.1858 - val_categorical_accuracy: 0.5270\n",
            "Epoch 27/30\n",
            "3907/3907 [==============================] - 98s 25ms/step - loss: 1.1176 - categorical_accuracy: 0.5587 - val_loss: 1.1833 - val_categorical_accuracy: 0.5286\n",
            "Epoch 28/30\n",
            "3907/3907 [==============================] - 87s 22ms/step - loss: 1.1164 - categorical_accuracy: 0.5593 - val_loss: 1.1814 - val_categorical_accuracy: 0.5307\n",
            "Epoch 29/30\n",
            "3907/3907 [==============================] - 91s 23ms/step - loss: 1.1152 - categorical_accuracy: 0.5609 - val_loss: 1.1857 - val_categorical_accuracy: 0.5301\n",
            "Epoch 30/30\n",
            "3907/3907 [==============================] - 93s 24ms/step - loss: 1.1134 - categorical_accuracy: 0.5612 - val_loss: 1.1954 - val_categorical_accuracy: 0.5265\n"
          ]
        }
      ]
    },
    {
      "cell_type": "code",
      "source": [
        "predictions = model.predict(x_test)\n",
        "predictions_res = predictions.argmax(axis=1)\n",
        "print(predictions_res)"
      ],
      "metadata": {
        "colab": {
          "base_uri": "https://localhost:8080/"
        },
        "id": "TD3DvosNj0eT",
        "outputId": "de947525-1eb0-46a5-b26c-aa8e7e0c0e22"
      },
      "execution_count": null,
      "outputs": [
        {
          "output_type": "stream",
          "name": "stdout",
          "text": [
            "6250/6250 [==============================] - 39s 6ms/step\n",
            "[3 5 5 ... 4 4 4]\n"
          ]
        }
      ]
    },
    {
      "cell_type": "code",
      "source": [
        "predictions_results = pd.DataFrame(test['review_id'], columns=['review_id'])"
      ],
      "metadata": {
        "id": "g6ufLAuklKwA"
      },
      "execution_count": null,
      "outputs": []
    },
    {
      "cell_type": "code",
      "source": [
        "predictions_results2 = pd.DataFrame(predictions_res, columns=['rating'])"
      ],
      "metadata": {
        "id": "JMQshyYPmGEo"
      },
      "execution_count": null,
      "outputs": []
    },
    {
      "cell_type": "code",
      "source": [
        "predictions_results = pd.concat([predictions_results, predictions_results2], axis=1)"
      ],
      "metadata": {
        "id": "0nWqLe61li3t"
      },
      "execution_count": null,
      "outputs": []
    },
    {
      "cell_type": "code",
      "source": [
        "predictions_results"
      ],
      "metadata": {
        "colab": {
          "base_uri": "https://localhost:8080/",
          "height": 423
        },
        "id": "h_aLfnAymznh",
        "outputId": "8139ac0a-6cf4-4c84-8c7d-b96a023959c1"
      },
      "execution_count": null,
      "outputs": [
        {
          "output_type": "execute_result",
          "data": {
            "text/plain": [
              "                                review_id  rating\n",
              "0       16c32b9bb0142734c60f8b028f281c5dd       3\n",
              "1       1f86ec340856f1097c922d33aed48d4ea       5\n",
              "2       14a20b34f27611e45bd75e24de6a06324       5\n",
              "3       1b2e5b069e4f440d152ae6d48e3f111ac       4\n",
              "4       132aec4dfb13a2f8032a7431023dd728f       3\n",
              "...                                   ...     ...\n",
              "199995  1e65b0ab60fb0fc5361da7c3a7a45bc2a       4\n",
              "199996  176c31b9581191138cc477b0df2f82b09       3\n",
              "199997  17af2bb1902e2b7f6a5004e7bbe285139       4\n",
              "199998  1e13fa3ce7e49dfd190bd0a02c36efe61       4\n",
              "199999  15f7e3747bb4b66f81c14a42a8d6e2403       4\n",
              "\n",
              "[200000 rows x 2 columns]"
            ],
            "text/html": [
              "\n",
              "  <div id=\"df-d1030135-93c7-45e2-9688-242c7e599fc3\">\n",
              "    <div class=\"colab-df-container\">\n",
              "      <div>\n",
              "<style scoped>\n",
              "    .dataframe tbody tr th:only-of-type {\n",
              "        vertical-align: middle;\n",
              "    }\n",
              "\n",
              "    .dataframe tbody tr th {\n",
              "        vertical-align: top;\n",
              "    }\n",
              "\n",
              "    .dataframe thead th {\n",
              "        text-align: right;\n",
              "    }\n",
              "</style>\n",
              "<table border=\"1\" class=\"dataframe\">\n",
              "  <thead>\n",
              "    <tr style=\"text-align: right;\">\n",
              "      <th></th>\n",
              "      <th>review_id</th>\n",
              "      <th>rating</th>\n",
              "    </tr>\n",
              "  </thead>\n",
              "  <tbody>\n",
              "    <tr>\n",
              "      <th>0</th>\n",
              "      <td>16c32b9bb0142734c60f8b028f281c5dd</td>\n",
              "      <td>3</td>\n",
              "    </tr>\n",
              "    <tr>\n",
              "      <th>1</th>\n",
              "      <td>1f86ec340856f1097c922d33aed48d4ea</td>\n",
              "      <td>5</td>\n",
              "    </tr>\n",
              "    <tr>\n",
              "      <th>2</th>\n",
              "      <td>14a20b34f27611e45bd75e24de6a06324</td>\n",
              "      <td>5</td>\n",
              "    </tr>\n",
              "    <tr>\n",
              "      <th>3</th>\n",
              "      <td>1b2e5b069e4f440d152ae6d48e3f111ac</td>\n",
              "      <td>4</td>\n",
              "    </tr>\n",
              "    <tr>\n",
              "      <th>4</th>\n",
              "      <td>132aec4dfb13a2f8032a7431023dd728f</td>\n",
              "      <td>3</td>\n",
              "    </tr>\n",
              "    <tr>\n",
              "      <th>...</th>\n",
              "      <td>...</td>\n",
              "      <td>...</td>\n",
              "    </tr>\n",
              "    <tr>\n",
              "      <th>199995</th>\n",
              "      <td>1e65b0ab60fb0fc5361da7c3a7a45bc2a</td>\n",
              "      <td>4</td>\n",
              "    </tr>\n",
              "    <tr>\n",
              "      <th>199996</th>\n",
              "      <td>176c31b9581191138cc477b0df2f82b09</td>\n",
              "      <td>3</td>\n",
              "    </tr>\n",
              "    <tr>\n",
              "      <th>199997</th>\n",
              "      <td>17af2bb1902e2b7f6a5004e7bbe285139</td>\n",
              "      <td>4</td>\n",
              "    </tr>\n",
              "    <tr>\n",
              "      <th>199998</th>\n",
              "      <td>1e13fa3ce7e49dfd190bd0a02c36efe61</td>\n",
              "      <td>4</td>\n",
              "    </tr>\n",
              "    <tr>\n",
              "      <th>199999</th>\n",
              "      <td>15f7e3747bb4b66f81c14a42a8d6e2403</td>\n",
              "      <td>4</td>\n",
              "    </tr>\n",
              "  </tbody>\n",
              "</table>\n",
              "<p>200000 rows × 2 columns</p>\n",
              "</div>\n",
              "      <button class=\"colab-df-convert\" onclick=\"convertToInteractive('df-d1030135-93c7-45e2-9688-242c7e599fc3')\"\n",
              "              title=\"Convert this dataframe to an interactive table.\"\n",
              "              style=\"display:none;\">\n",
              "        \n",
              "  <svg xmlns=\"http://www.w3.org/2000/svg\" height=\"24px\"viewBox=\"0 0 24 24\"\n",
              "       width=\"24px\">\n",
              "    <path d=\"M0 0h24v24H0V0z\" fill=\"none\"/>\n",
              "    <path d=\"M18.56 5.44l.94 2.06.94-2.06 2.06-.94-2.06-.94-.94-2.06-.94 2.06-2.06.94zm-11 1L8.5 8.5l.94-2.06 2.06-.94-2.06-.94L8.5 2.5l-.94 2.06-2.06.94zm10 10l.94 2.06.94-2.06 2.06-.94-2.06-.94-.94-2.06-.94 2.06-2.06.94z\"/><path d=\"M17.41 7.96l-1.37-1.37c-.4-.4-.92-.59-1.43-.59-.52 0-1.04.2-1.43.59L10.3 9.45l-7.72 7.72c-.78.78-.78 2.05 0 2.83L4 21.41c.39.39.9.59 1.41.59.51 0 1.02-.2 1.41-.59l7.78-7.78 2.81-2.81c.8-.78.8-2.07 0-2.86zM5.41 20L4 18.59l7.72-7.72 1.47 1.35L5.41 20z\"/>\n",
              "  </svg>\n",
              "      </button>\n",
              "      \n",
              "  <style>\n",
              "    .colab-df-container {\n",
              "      display:flex;\n",
              "      flex-wrap:wrap;\n",
              "      gap: 12px;\n",
              "    }\n",
              "\n",
              "    .colab-df-convert {\n",
              "      background-color: #E8F0FE;\n",
              "      border: none;\n",
              "      border-radius: 50%;\n",
              "      cursor: pointer;\n",
              "      display: none;\n",
              "      fill: #1967D2;\n",
              "      height: 32px;\n",
              "      padding: 0 0 0 0;\n",
              "      width: 32px;\n",
              "    }\n",
              "\n",
              "    .colab-df-convert:hover {\n",
              "      background-color: #E2EBFA;\n",
              "      box-shadow: 0px 1px 2px rgba(60, 64, 67, 0.3), 0px 1px 3px 1px rgba(60, 64, 67, 0.15);\n",
              "      fill: #174EA6;\n",
              "    }\n",
              "\n",
              "    [theme=dark] .colab-df-convert {\n",
              "      background-color: #3B4455;\n",
              "      fill: #D2E3FC;\n",
              "    }\n",
              "\n",
              "    [theme=dark] .colab-df-convert:hover {\n",
              "      background-color: #434B5C;\n",
              "      box-shadow: 0px 1px 3px 1px rgba(0, 0, 0, 0.15);\n",
              "      filter: drop-shadow(0px 1px 2px rgba(0, 0, 0, 0.3));\n",
              "      fill: #FFFFFF;\n",
              "    }\n",
              "  </style>\n",
              "\n",
              "      <script>\n",
              "        const buttonEl =\n",
              "          document.querySelector('#df-d1030135-93c7-45e2-9688-242c7e599fc3 button.colab-df-convert');\n",
              "        buttonEl.style.display =\n",
              "          google.colab.kernel.accessAllowed ? 'block' : 'none';\n",
              "\n",
              "        async function convertToInteractive(key) {\n",
              "          const element = document.querySelector('#df-d1030135-93c7-45e2-9688-242c7e599fc3');\n",
              "          const dataTable =\n",
              "            await google.colab.kernel.invokeFunction('convertToInteractive',\n",
              "                                                     [key], {});\n",
              "          if (!dataTable) return;\n",
              "\n",
              "          const docLinkHtml = 'Like what you see? Visit the ' +\n",
              "            '<a target=\"_blank\" href=https://colab.research.google.com/notebooks/data_table.ipynb>data table notebook</a>'\n",
              "            + ' to learn more about interactive tables.';\n",
              "          element.innerHTML = '';\n",
              "          dataTable['output_type'] = 'display_data';\n",
              "          await google.colab.output.renderOutput(dataTable, element);\n",
              "          const docLink = document.createElement('div');\n",
              "          docLink.innerHTML = docLinkHtml;\n",
              "          element.appendChild(docLink);\n",
              "        }\n",
              "      </script>\n",
              "    </div>\n",
              "  </div>\n",
              "  "
            ]
          },
          "metadata": {},
          "execution_count": 70
        }
      ]
    },
    {
      "cell_type": "code",
      "source": [
        "predictions_results.to_csv('results.csv', index=False)"
      ],
      "metadata": {
        "id": "nO-Op-VBogkx"
      },
      "execution_count": null,
      "outputs": []
    },
    {
      "cell_type": "code",
      "source": [],
      "metadata": {
        "id": "RbOKiwY4iUUa"
      },
      "execution_count": null,
      "outputs": []
    },
    {
      "cell_type": "markdown",
      "source": [
        "# GRU (Gated recurrent unit)\n",
        "\n",
        "\n"
      ],
      "metadata": {
        "id": "Qu2-Rb4RiRVq"
      }
    },
    {
      "cell_type": "markdown",
      "source": [
        "The libraries and modules that have been imported at the beginning of the report are also used here.\n",
        "\n",
        "The already cleaned data by the defined functions (emj_rem, rmvurl, and clean) were also needed and were leveraged to clean the test and training data\n",
        "\n",
        "Text data were also preprocessed using Tokenizer and pad_sequences functions from tensorflow\n",
        "\n",
        "Then the GRU model with dropout layers using Keras was created for the classification.\n",
        "\n",
        "The model is:\n",
        "\n",
        "* trained on the training set\n",
        "* validated on the validation set \n",
        "* And predictions are finally generated"
      ],
      "metadata": {
        "id": "D9G3avXoiRmO"
      }
    },
    {
      "cell_type": "code",
      "source": [
        "## Cleaning the training data\n",
        "\n",
        "data['words_num'] = data.review_text.apply(lambda y:len(str(y).split()))\n",
        "train_max_length = data['words_num'].max()\n",
        "\n",
        "data.review_text = data.review_text.apply(emj_rem)\n",
        "data.review_text = data.review_text.apply(rmvurl)\n",
        "data.review_text = data.review_text.apply(clean)"
      ],
      "metadata": {
        "id": "Hs8Rc0CawxSK"
      },
      "execution_count": null,
      "outputs": []
    },
    {
      "cell_type": "code",
      "source": [
        "## Cleaning the test data\n",
        "\n",
        "test['words_num'] = test.review_text.apply(lambda y:len(str(y).split()))\n",
        "test_max_length = test['words_num'].max()\n",
        "\n",
        "test.review_text = test.review_text.apply(emj_rem)\n",
        "test.review_text = test.review_text.apply(rmvurl)\n",
        "test.review_text = test.review_text.apply(clean)"
      ],
      "metadata": {
        "id": "slUW40rOyI6d"
      },
      "execution_count": null,
      "outputs": []
    },
    {
      "cell_type": "code",
      "source": [
        "print('Training data has highest length of: ', train_max_length)\n",
        "print('Testing data has highest length of: ', test_max_length)"
      ],
      "metadata": {
        "colab": {
          "base_uri": "https://localhost:8080/"
        },
        "id": "fRL9F4ikzACW",
        "outputId": "154bf8fd-65ba-4113-a938-be94f769521e"
      },
      "execution_count": null,
      "outputs": [
        {
          "output_type": "stream",
          "name": "stdout",
          "text": [
            "Training data has highest length of:  3493\n",
            "Testing data has highest length of:  2953\n"
          ]
        }
      ]
    },
    {
      "cell_type": "code",
      "source": [
        "# The text is pre processed using the tokenizer and the pad_sequence\n",
        "from tensorflow.keras.preprocessing.text import Tokenizer\n",
        "from tensorflow.keras.preprocessing.sequence import pad_sequences\n",
        "\n",
        "num_words = 20000\n",
        "\n",
        "tokenizer = Tokenizer(num_words=num_words,oov_token=\"unk\")\n",
        "tokenizer.fit_on_texts(data['review_text'].tolist())"
      ],
      "metadata": {
        "id": "o7lOT9FcxfwN"
      },
      "execution_count": null,
      "outputs": []
    },
    {
      "cell_type": "code",
      "source": [
        "X_train, X_valid, y_train, y_valid = train_test_split(data.review_text.tolist(), data.rating.tolist(), test_size=0.285714)"
      ],
      "metadata": {
        "id": "V7tFxVp1xgAy"
      },
      "execution_count": null,
      "outputs": []
    },
    {
      "cell_type": "code",
      "source": [
        "x_train = np.array( tokenizer.texts_to_sequences(X_train) )\n",
        "x_valid = np.array( tokenizer.texts_to_sequences(X_valid) )\n",
        "x_test  = np.array( tokenizer.texts_to_sequences(test['review_text'].tolist()) )\n",
        "\n",
        "\n",
        "\n",
        "x_train = pad_sequences(x_train, padding='post', maxlen=40)\n",
        "x_valid = pad_sequences(x_valid, padding='post', maxlen=40)\n",
        "x_test = pad_sequences(x_test, padding='post', maxlen=40)"
      ],
      "metadata": {
        "colab": {
          "base_uri": "https://localhost:8080/"
        },
        "id": "yjaA9-t81fjK",
        "outputId": "a1d26167-2932-4bf1-f9d2-71797538b696"
      },
      "execution_count": null,
      "outputs": [
        {
          "output_type": "stream",
          "name": "stderr",
          "text": [
            "<ipython-input-13-7ddd314c7987>:1: VisibleDeprecationWarning: Creating an ndarray from ragged nested sequences (which is a list-or-tuple of lists-or-tuples-or ndarrays with different lengths or shapes) is deprecated. If you meant to do this, you must specify 'dtype=object' when creating the ndarray.\n",
            "  x_train = np.array( tokenizer.texts_to_sequences(X_train) )\n",
            "<ipython-input-13-7ddd314c7987>:2: VisibleDeprecationWarning: Creating an ndarray from ragged nested sequences (which is a list-or-tuple of lists-or-tuples-or ndarrays with different lengths or shapes) is deprecated. If you meant to do this, you must specify 'dtype=object' when creating the ndarray.\n",
            "  x_valid = np.array( tokenizer.texts_to_sequences(X_valid) )\n",
            "<ipython-input-13-7ddd314c7987>:3: VisibleDeprecationWarning: Creating an ndarray from ragged nested sequences (which is a list-or-tuple of lists-or-tuples-or ndarrays with different lengths or shapes) is deprecated. If you meant to do this, you must specify 'dtype=object' when creating the ndarray.\n",
            "  x_test  = np.array( tokenizer.texts_to_sequences(test['review_text'].tolist()) )\n"
          ]
        }
      ]
    },
    {
      "cell_type": "code",
      "source": [
        "train_ds = tf.data.Dataset.from_tensor_slices((x_train, np.asarray(tf.keras.utils.to_categorical(y_train))))\n",
        "valid_ds = tf.data.Dataset.from_tensor_slices((x_valid, np.asarray(tf.keras.utils.to_categorical(y_valid))))"
      ],
      "metadata": {
        "id": "Ovp85TGA2FZO"
      },
      "execution_count": null,
      "outputs": []
    },
    {
      "cell_type": "code",
      "source": [
        "## Building the model\n",
        "\n",
        "from tensorflow.keras import regularizers\n",
        "max_features =20000\n",
        "embedding_dim =64\n",
        "sequence_length = 40\n",
        "\n",
        "model = tf.keras.Sequential()\n",
        "model.add(tf.keras.layers.Embedding(max_features +1, embedding_dim, input_length=sequence_length,\\\n",
        "                                    embeddings_regularizer = regularizers.l2(0.0005)))    \n",
        "model.add(tf.keras.layers.Dropout(0.2))                                \n",
        "\n",
        "model.add(tf.keras.layers.GRU(units=64))\n",
        "model.add(tf.keras.layers.Dropout(0.2))\n",
        "\n",
        "model.add(tf.keras.layers.Dense(6, activation='sigmoid',\\\n",
        "                                kernel_regularizer=regularizers.l2(0.001),\\\n",
        "                                bias_regularizer=regularizers.l2(0.001),))\n",
        "\n",
        "model.compile(loss=tf.keras.losses.CategoricalCrossentropy(from_logits=True), optimizer='Nadam', metrics=[\"CategoricalAccuracy\"])"
      ],
      "metadata": {
        "id": "pVj5ERKP3ooV"
      },
      "execution_count": null,
      "outputs": []
    },
    {
      "cell_type": "code",
      "source": [
        "epochs = 30\n",
        "# Fit the model using the train and test datasets.\n",
        "#history = model.fit(x_train, train_labels,validation_data= (x_test,test_labels),epochs=epochs )\n",
        "history = model.fit(train_ds.shuffle(2000).batch(128),\n",
        "                    epochs= epochs ,\n",
        "                    validation_data=valid_ds.batch(128),\n",
        "                    verbose=1)"
      ],
      "metadata": {
        "colab": {
          "base_uri": "https://localhost:8080/"
        },
        "id": "qtwTAeFyEsJ5",
        "outputId": "9b8e4b56-503c-4f85-ced3-97e3b146a27c"
      },
      "execution_count": null,
      "outputs": [
        {
          "output_type": "stream",
          "name": "stdout",
          "text": [
            "Epoch 1/30\n"
          ]
        },
        {
          "output_type": "stream",
          "name": "stderr",
          "text": [
            "/usr/local/lib/python3.9/dist-packages/keras/backend.py:5561: UserWarning: \"`categorical_crossentropy` received `from_logits=True`, but the `output` argument was produced by a Softmax activation and thus does not represent logits. Was this intended?\n",
            "  output, from_logits = _get_logits(\n"
          ]
        },
        {
          "output_type": "stream",
          "name": "stdout",
          "text": [
            "3907/3907 [==============================] - 43s 9ms/step - loss: 1.2747 - categorical_accuracy: 0.4692 - val_loss: 1.2345 - val_categorical_accuracy: 0.4846\n",
            "Epoch 2/30\n",
            "3907/3907 [==============================] - 33s 8ms/step - loss: 1.2248 - categorical_accuracy: 0.4932 - val_loss: 1.2066 - val_categorical_accuracy: 0.5021\n",
            "Epoch 3/30\n",
            "3907/3907 [==============================] - 33s 8ms/step - loss: 1.2137 - categorical_accuracy: 0.5017 - val_loss: 1.1987 - val_categorical_accuracy: 0.5086\n",
            "Epoch 4/30\n",
            "3907/3907 [==============================] - 31s 8ms/step - loss: 1.2070 - categorical_accuracy: 0.5062 - val_loss: 1.1943 - val_categorical_accuracy: 0.5125\n",
            "Epoch 5/30\n",
            "3907/3907 [==============================] - 33s 8ms/step - loss: 1.2028 - categorical_accuracy: 0.5091 - val_loss: 1.1894 - val_categorical_accuracy: 0.5151\n",
            "Epoch 6/30\n",
            "3907/3907 [==============================] - 33s 8ms/step - loss: 1.2004 - categorical_accuracy: 0.5107 - val_loss: 1.1906 - val_categorical_accuracy: 0.5145\n",
            "Epoch 7/30\n",
            "3907/3907 [==============================] - 31s 8ms/step - loss: 1.1984 - categorical_accuracy: 0.5131 - val_loss: 1.1889 - val_categorical_accuracy: 0.5174\n",
            "Epoch 8/30\n",
            "3907/3907 [==============================] - 32s 8ms/step - loss: 1.1965 - categorical_accuracy: 0.5142 - val_loss: 1.1839 - val_categorical_accuracy: 0.5201\n",
            "Epoch 9/30\n",
            "3907/3907 [==============================] - 32s 8ms/step - loss: 1.1959 - categorical_accuracy: 0.5148 - val_loss: 1.1834 - val_categorical_accuracy: 0.5206\n",
            "Epoch 10/30\n",
            "3907/3907 [==============================] - 31s 8ms/step - loss: 1.1945 - categorical_accuracy: 0.5161 - val_loss: 1.1885 - val_categorical_accuracy: 0.5188\n",
            "Epoch 11/30\n",
            "3907/3907 [==============================] - 33s 8ms/step - loss: 1.1931 - categorical_accuracy: 0.5166 - val_loss: 1.1840 - val_categorical_accuracy: 0.5211\n",
            "Epoch 12/30\n",
            "3907/3907 [==============================] - 31s 8ms/step - loss: 1.1929 - categorical_accuracy: 0.5172 - val_loss: 1.1824 - val_categorical_accuracy: 0.5219\n",
            "Epoch 13/30\n",
            "3907/3907 [==============================] - 32s 8ms/step - loss: 1.1913 - categorical_accuracy: 0.5185 - val_loss: 1.1839 - val_categorical_accuracy: 0.5229\n",
            "Epoch 14/30\n",
            "3907/3907 [==============================] - 32s 8ms/step - loss: 1.1911 - categorical_accuracy: 0.5186 - val_loss: 1.1828 - val_categorical_accuracy: 0.5239\n",
            "Epoch 15/30\n",
            "3907/3907 [==============================] - 31s 8ms/step - loss: 1.1908 - categorical_accuracy: 0.5193 - val_loss: 1.1867 - val_categorical_accuracy: 0.5192\n",
            "Epoch 16/30\n",
            "3907/3907 [==============================] - 33s 8ms/step - loss: 1.1903 - categorical_accuracy: 0.5202 - val_loss: 1.1836 - val_categorical_accuracy: 0.5234\n",
            "Epoch 17/30\n",
            "3907/3907 [==============================] - 31s 8ms/step - loss: 1.1891 - categorical_accuracy: 0.5210 - val_loss: 1.1817 - val_categorical_accuracy: 0.5245\n",
            "Epoch 18/30\n",
            "3907/3907 [==============================] - 32s 8ms/step - loss: 1.1888 - categorical_accuracy: 0.5211 - val_loss: 1.1823 - val_categorical_accuracy: 0.5238\n",
            "Epoch 19/30\n",
            "3907/3907 [==============================] - 32s 8ms/step - loss: 1.1879 - categorical_accuracy: 0.5224 - val_loss: 1.1835 - val_categorical_accuracy: 0.5254\n",
            "Epoch 20/30\n",
            "3907/3907 [==============================] - 31s 8ms/step - loss: 1.1881 - categorical_accuracy: 0.5221 - val_loss: 1.1832 - val_categorical_accuracy: 0.5248\n",
            "Epoch 21/30\n",
            "3907/3907 [==============================] - 32s 8ms/step - loss: 1.1881 - categorical_accuracy: 0.5223 - val_loss: 1.1817 - val_categorical_accuracy: 0.5257\n",
            "Epoch 22/30\n",
            "3907/3907 [==============================] - 31s 8ms/step - loss: 1.1873 - categorical_accuracy: 0.5234 - val_loss: 1.1825 - val_categorical_accuracy: 0.5258\n",
            "Epoch 23/30\n",
            "3907/3907 [==============================] - 32s 8ms/step - loss: 1.1877 - categorical_accuracy: 0.5233 - val_loss: 1.1815 - val_categorical_accuracy: 0.5262\n",
            "Epoch 24/30\n",
            "3907/3907 [==============================] - 32s 8ms/step - loss: 1.1872 - categorical_accuracy: 0.5244 - val_loss: 1.1829 - val_categorical_accuracy: 0.5253\n",
            "Epoch 25/30\n",
            "3907/3907 [==============================] - 31s 8ms/step - loss: 1.1866 - categorical_accuracy: 0.5240 - val_loss: 1.1806 - val_categorical_accuracy: 0.5279\n",
            "Epoch 26/30\n",
            "3907/3907 [==============================] - 32s 8ms/step - loss: 1.1863 - categorical_accuracy: 0.5248 - val_loss: 1.1842 - val_categorical_accuracy: 0.5241\n",
            "Epoch 27/30\n",
            "3907/3907 [==============================] - 31s 8ms/step - loss: 1.1860 - categorical_accuracy: 0.5247 - val_loss: 1.1827 - val_categorical_accuracy: 0.5254\n",
            "Epoch 28/30\n",
            "3907/3907 [==============================] - 38s 10ms/step - loss: 1.1865 - categorical_accuracy: 0.5250 - val_loss: 1.1829 - val_categorical_accuracy: 0.5256\n",
            "Epoch 29/30\n",
            "3907/3907 [==============================] - 38s 10ms/step - loss: 1.1862 - categorical_accuracy: 0.5253 - val_loss: 1.1817 - val_categorical_accuracy: 0.5257\n",
            "Epoch 30/30\n",
            "3907/3907 [==============================] - 41s 10ms/step - loss: 1.1860 - categorical_accuracy: 0.5255 - val_loss: 1.1835 - val_categorical_accuracy: 0.5269\n"
          ]
        }
      ]
    },
    {
      "cell_type": "code",
      "source": [],
      "metadata": {
        "id": "MS9F3QY2iU3d"
      },
      "execution_count": null,
      "outputs": []
    },
    {
      "cell_type": "markdown",
      "source": [
        "# BERT"
      ],
      "metadata": {
        "id": "l2-RbtaScg4d"
      }
    },
    {
      "cell_type": "markdown",
      "source": [
        "BERT (Bidirectional Encoder Representations from Transformers) is a pre-trained deep learning model which can be fine-tuned\n",
        "on tasks such as language generation and classification (which is being worked on in this report)\n",
        "\n",
        "The libraries and modules that have been imported at the beginning of the report are implemented here also.\n",
        "\n",
        "The code creates TensorFlow datasets from the preprocessed data and uses the BERT model to classify reviews by rating using \n",
        "a softmax activation function and sparse categorical cross-entropy loss function. \n",
        "\n",
        "The model finally is compiled with an \"adam\" optimizer, a 'sparse_categorical_crossentropy' loss and the \"accuracy\" metrics. \n",
        "It is trained using the training data and evaluated using the validation and testing data."
      ],
      "metadata": {
        "id": "8Czi0dov3aDR"
      }
    },
    {
      "cell_type": "code",
      "execution_count": null,
      "metadata": {
        "colab": {
          "base_uri": "https://localhost:8080/"
        },
        "id": "vyTzlNRB_RSW",
        "outputId": "e5e1f858-f4fe-4aee-9199-2678fb7f4fd0"
      },
      "outputs": [
        {
          "output_type": "stream",
          "name": "stdout",
          "text": [
            "Mounted at /content/drive\n",
            "Looking in indexes: https://pypi.org/simple, https://us-python.pkg.dev/colab-wheels/public/simple/\n",
            "Collecting tensorflow_text\n",
            "  Downloading tensorflow_text-2.12.1-cp39-cp39-manylinux_2_17_x86_64.manylinux2014_x86_64.whl (6.0 MB)\n",
            "\u001b[2K     \u001b[90m━━━━━━━━━━━━━━━━━━━━━━━━━━━━━━━━━━━━━━━━\u001b[0m \u001b[32m6.0/6.0 MB\u001b[0m \u001b[31m51.4 MB/s\u001b[0m eta \u001b[36m0:00:00\u001b[0m\n",
            "\u001b[?25hRequirement already satisfied: tensorflow<2.13,>=2.12.0 in /usr/local/lib/python3.9/dist-packages (from tensorflow_text) (2.12.0)\n",
            "Requirement already satisfied: tensorflow-hub>=0.8.0 in /usr/local/lib/python3.9/dist-packages (from tensorflow_text) (0.13.0)\n",
            "Requirement already satisfied: absl-py>=1.0.0 in /usr/local/lib/python3.9/dist-packages (from tensorflow<2.13,>=2.12.0->tensorflow_text) (1.4.0)\n",
            "Requirement already satisfied: jax>=0.3.15 in /usr/local/lib/python3.9/dist-packages (from tensorflow<2.13,>=2.12.0->tensorflow_text) (0.4.8)\n",
            "Requirement already satisfied: termcolor>=1.1.0 in /usr/local/lib/python3.9/dist-packages (from tensorflow<2.13,>=2.12.0->tensorflow_text) (2.2.0)\n",
            "Requirement already satisfied: grpcio<2.0,>=1.24.3 in /usr/local/lib/python3.9/dist-packages (from tensorflow<2.13,>=2.12.0->tensorflow_text) (1.53.0)\n",
            "Requirement already satisfied: numpy<1.24,>=1.22 in /usr/local/lib/python3.9/dist-packages (from tensorflow<2.13,>=2.12.0->tensorflow_text) (1.22.4)\n",
            "Requirement already satisfied: tensorboard<2.13,>=2.12 in /usr/local/lib/python3.9/dist-packages (from tensorflow<2.13,>=2.12.0->tensorflow_text) (2.12.1)\n",
            "Requirement already satisfied: typing-extensions>=3.6.6 in /usr/local/lib/python3.9/dist-packages (from tensorflow<2.13,>=2.12.0->tensorflow_text) (4.5.0)\n",
            "Requirement already satisfied: wrapt<1.15,>=1.11.0 in /usr/local/lib/python3.9/dist-packages (from tensorflow<2.13,>=2.12.0->tensorflow_text) (1.14.1)\n",
            "Requirement already satisfied: opt-einsum>=2.3.2 in /usr/local/lib/python3.9/dist-packages (from tensorflow<2.13,>=2.12.0->tensorflow_text) (3.3.0)\n",
            "Requirement already satisfied: gast<=0.4.0,>=0.2.1 in /usr/local/lib/python3.9/dist-packages (from tensorflow<2.13,>=2.12.0->tensorflow_text) (0.4.0)\n",
            "Requirement already satisfied: protobuf!=4.21.0,!=4.21.1,!=4.21.2,!=4.21.3,!=4.21.4,!=4.21.5,<5.0.0dev,>=3.20.3 in /usr/local/lib/python3.9/dist-packages (from tensorflow<2.13,>=2.12.0->tensorflow_text) (3.20.3)\n",
            "Requirement already satisfied: h5py>=2.9.0 in /usr/local/lib/python3.9/dist-packages (from tensorflow<2.13,>=2.12.0->tensorflow_text) (3.8.0)\n",
            "Requirement already satisfied: packaging in /usr/local/lib/python3.9/dist-packages (from tensorflow<2.13,>=2.12.0->tensorflow_text) (23.0)\n",
            "Requirement already satisfied: setuptools in /usr/local/lib/python3.9/dist-packages (from tensorflow<2.13,>=2.12.0->tensorflow_text) (67.6.1)\n",
            "Requirement already satisfied: six>=1.12.0 in /usr/local/lib/python3.9/dist-packages (from tensorflow<2.13,>=2.12.0->tensorflow_text) (1.16.0)\n",
            "Requirement already satisfied: tensorflow-io-gcs-filesystem>=0.23.1 in /usr/local/lib/python3.9/dist-packages (from tensorflow<2.13,>=2.12.0->tensorflow_text) (0.32.0)\n",
            "Requirement already satisfied: libclang>=13.0.0 in /usr/local/lib/python3.9/dist-packages (from tensorflow<2.13,>=2.12.0->tensorflow_text) (16.0.0)\n",
            "Requirement already satisfied: google-pasta>=0.1.1 in /usr/local/lib/python3.9/dist-packages (from tensorflow<2.13,>=2.12.0->tensorflow_text) (0.2.0)\n",
            "Requirement already satisfied: astunparse>=1.6.0 in /usr/local/lib/python3.9/dist-packages (from tensorflow<2.13,>=2.12.0->tensorflow_text) (1.6.3)\n",
            "Requirement already satisfied: tensorflow-estimator<2.13,>=2.12.0 in /usr/local/lib/python3.9/dist-packages (from tensorflow<2.13,>=2.12.0->tensorflow_text) (2.12.0)\n",
            "Requirement already satisfied: flatbuffers>=2.0 in /usr/local/lib/python3.9/dist-packages (from tensorflow<2.13,>=2.12.0->tensorflow_text) (23.3.3)\n",
            "Requirement already satisfied: keras<2.13,>=2.12.0 in /usr/local/lib/python3.9/dist-packages (from tensorflow<2.13,>=2.12.0->tensorflow_text) (2.12.0)\n",
            "Requirement already satisfied: wheel<1.0,>=0.23.0 in /usr/local/lib/python3.9/dist-packages (from astunparse>=1.6.0->tensorflow<2.13,>=2.12.0->tensorflow_text) (0.40.0)\n",
            "Requirement already satisfied: ml-dtypes>=0.0.3 in /usr/local/lib/python3.9/dist-packages (from jax>=0.3.15->tensorflow<2.13,>=2.12.0->tensorflow_text) (0.0.4)\n",
            "Requirement already satisfied: scipy>=1.7 in /usr/local/lib/python3.9/dist-packages (from jax>=0.3.15->tensorflow<2.13,>=2.12.0->tensorflow_text) (1.10.1)\n",
            "Requirement already satisfied: google-auth<3,>=1.6.3 in /usr/local/lib/python3.9/dist-packages (from tensorboard<2.13,>=2.12->tensorflow<2.13,>=2.12.0->tensorflow_text) (2.17.2)\n",
            "Requirement already satisfied: tensorboard-plugin-wit>=1.6.0 in /usr/local/lib/python3.9/dist-packages (from tensorboard<2.13,>=2.12->tensorflow<2.13,>=2.12.0->tensorflow_text) (1.8.1)\n",
            "Requirement already satisfied: markdown>=2.6.8 in /usr/local/lib/python3.9/dist-packages (from tensorboard<2.13,>=2.12->tensorflow<2.13,>=2.12.0->tensorflow_text) (3.4.3)\n",
            "Requirement already satisfied: requests<3,>=2.21.0 in /usr/local/lib/python3.9/dist-packages (from tensorboard<2.13,>=2.12->tensorflow<2.13,>=2.12.0->tensorflow_text) (2.27.1)\n",
            "Requirement already satisfied: google-auth-oauthlib<1.1,>=0.5 in /usr/local/lib/python3.9/dist-packages (from tensorboard<2.13,>=2.12->tensorflow<2.13,>=2.12.0->tensorflow_text) (1.0.0)\n",
            "Requirement already satisfied: werkzeug>=1.0.1 in /usr/local/lib/python3.9/dist-packages (from tensorboard<2.13,>=2.12->tensorflow<2.13,>=2.12.0->tensorflow_text) (2.2.3)\n",
            "Requirement already satisfied: tensorboard-data-server<0.8.0,>=0.7.0 in /usr/local/lib/python3.9/dist-packages (from tensorboard<2.13,>=2.12->tensorflow<2.13,>=2.12.0->tensorflow_text) (0.7.0)\n",
            "Requirement already satisfied: rsa<5,>=3.1.4 in /usr/local/lib/python3.9/dist-packages (from google-auth<3,>=1.6.3->tensorboard<2.13,>=2.12->tensorflow<2.13,>=2.12.0->tensorflow_text) (4.9)\n",
            "Requirement already satisfied: cachetools<6.0,>=2.0.0 in /usr/local/lib/python3.9/dist-packages (from google-auth<3,>=1.6.3->tensorboard<2.13,>=2.12->tensorflow<2.13,>=2.12.0->tensorflow_text) (5.3.0)\n",
            "Requirement already satisfied: pyasn1-modules>=0.2.1 in /usr/local/lib/python3.9/dist-packages (from google-auth<3,>=1.6.3->tensorboard<2.13,>=2.12->tensorflow<2.13,>=2.12.0->tensorflow_text) (0.2.8)\n",
            "Requirement already satisfied: requests-oauthlib>=0.7.0 in /usr/local/lib/python3.9/dist-packages (from google-auth-oauthlib<1.1,>=0.5->tensorboard<2.13,>=2.12->tensorflow<2.13,>=2.12.0->tensorflow_text) (1.3.1)\n",
            "Requirement already satisfied: importlib-metadata>=4.4 in /usr/local/lib/python3.9/dist-packages (from markdown>=2.6.8->tensorboard<2.13,>=2.12->tensorflow<2.13,>=2.12.0->tensorflow_text) (6.3.0)\n",
            "Requirement already satisfied: certifi>=2017.4.17 in /usr/local/lib/python3.9/dist-packages (from requests<3,>=2.21.0->tensorboard<2.13,>=2.12->tensorflow<2.13,>=2.12.0->tensorflow_text) (2022.12.7)\n",
            "Requirement already satisfied: idna<4,>=2.5 in /usr/local/lib/python3.9/dist-packages (from requests<3,>=2.21.0->tensorboard<2.13,>=2.12->tensorflow<2.13,>=2.12.0->tensorflow_text) (3.4)\n",
            "Requirement already satisfied: urllib3<1.27,>=1.21.1 in /usr/local/lib/python3.9/dist-packages (from requests<3,>=2.21.0->tensorboard<2.13,>=2.12->tensorflow<2.13,>=2.12.0->tensorflow_text) (1.26.15)\n",
            "Requirement already satisfied: charset-normalizer~=2.0.0 in /usr/local/lib/python3.9/dist-packages (from requests<3,>=2.21.0->tensorboard<2.13,>=2.12->tensorflow<2.13,>=2.12.0->tensorflow_text) (2.0.12)\n",
            "Requirement already satisfied: MarkupSafe>=2.1.1 in /usr/local/lib/python3.9/dist-packages (from werkzeug>=1.0.1->tensorboard<2.13,>=2.12->tensorflow<2.13,>=2.12.0->tensorflow_text) (2.1.2)\n",
            "Requirement already satisfied: zipp>=0.5 in /usr/local/lib/python3.9/dist-packages (from importlib-metadata>=4.4->markdown>=2.6.8->tensorboard<2.13,>=2.12->tensorflow<2.13,>=2.12.0->tensorflow_text) (3.15.0)\n",
            "Requirement already satisfied: pyasn1<0.5.0,>=0.4.6 in /usr/local/lib/python3.9/dist-packages (from pyasn1-modules>=0.2.1->google-auth<3,>=1.6.3->tensorboard<2.13,>=2.12->tensorflow<2.13,>=2.12.0->tensorflow_text) (0.4.8)\n",
            "Requirement already satisfied: oauthlib>=3.0.0 in /usr/local/lib/python3.9/dist-packages (from requests-oauthlib>=0.7.0->google-auth-oauthlib<1.1,>=0.5->tensorboard<2.13,>=2.12->tensorflow<2.13,>=2.12.0->tensorflow_text) (3.2.2)\n",
            "Installing collected packages: tensorflow_text\n",
            "Successfully installed tensorflow_text-2.12.1\n"
          ]
        }
      ],
      "source": [
        "import pandas as pd\n",
        "import numpy as np\n",
        "from sklearn.model_selection import train_test_split\n",
        "\n",
        "from google.colab import drive\n",
        "drive.mount('/content/drive')\n",
        "\n",
        "data = pd.read_csv(\"drive/MyDrive/mydata/my_goodreads_train.csv\")\n",
        "test = pd.read_csv(\"drive/MyDrive/mydata/my_goodreads_test.csv\")\n",
        "\n",
        "data_bert = pd.concat([data.review_text, data.rating], axis=1)\n",
        "data_bert\n",
        "\n",
        "data_df, val_df = train_test_split(data_bert, test_size=0.285714)\n",
        "\n",
        "test_df = test.review_text\n",
        "\n",
        "import re\n",
        "import string\n",
        "def emj_rem(txt):\n",
        "  emj = re.compile(\"[\"\n",
        "                           u\"\\U0001F600-\\U0001F64F\"  # emoticons\n",
        "                           u\"\\U0001F300-\\U0001F5FF\"  # symbols & pictographs\n",
        "                           u\"\\U0001F680-\\U0001F6FF\"  # transport & map symbols\n",
        "                           u\"\\U0001F1E0-\\U0001F1FF\"  # flags (iOS)\n",
        "                           u\"\\U00002702-\\U000027B0\"\n",
        "                           u\"\\U000024C2-\\U0001F251\"\n",
        "                           \"]+\", flags=re.UNICODE)\n",
        "  return emj.sub(r'', txt)\n",
        "\n",
        "def rmvurl(txt): \n",
        "    url  = re.compile('http[s]?://(?:[a-zA-Z]|[0-9]|[$-_@.&+]|[!*\\(\\),]|(?:%[0-9a-fA-F][0-9a-fA-F]))+')\n",
        "    return url.sub(r'', txt)\n",
        "\n",
        "def clean(txt): \n",
        "    del_dic = {sp_character: '' for sp_character in string.punctuation} \n",
        "    del_dic[' '] = ' ' \n",
        "    tab = str.maketrans(del_dic)\n",
        "    txt1 = txt.translate(tab)\n",
        "    txtAr= txt1.split()\n",
        "    text2 = ' '.join([w for w in txtAr if ( not w.isdigit() and  ( not w.isdigit() and len(w)>2))]) \n",
        "    \n",
        "    return text2.lower()\n",
        "\n",
        "\n",
        "test_df = pd.DataFrame(test_df, columns=['review_text'])\n",
        "\n",
        "data_df.review_text = data_df.review_text.apply(emj_rem)\n",
        "data_df.review_text = data_df.review_text.apply(rmvurl)\n",
        "data_df.review_text = data_df.review_text.apply(clean)\n",
        "\n",
        "val_df.review_text = val_df.review_text.apply(emj_rem)\n",
        "val_df.review_text = val_df.review_text.apply(rmvurl)\n",
        "val_df.review_text = val_df.review_text.apply(clean)\n",
        "\n",
        "test_df.review_text = test_df.review_text.apply(emj_rem)\n",
        "test_df.review_text = test_df.review_text.apply(rmvurl)\n",
        "test_df.review_text = test_df.review_text.apply(clean)\n",
        "\n",
        "import tensorflow as tf\n",
        "\n",
        "batch_size = 32\n",
        "\n",
        "# create TensorFlow datasets from the Pandas dataframes\n",
        "data_ds = tf.data.Dataset.from_tensor_slices((data_df[['review_text', 'rating']].to_dict('list')))\n",
        "val_ds = tf.data.Dataset.from_tensor_slices((val_df[['review_text', 'rating']].to_dict('list')))\n",
        "test_ds = tf.data.Dataset.from_tensor_slices((test_df[['review_text']].to_dict('list')))\n",
        "\n",
        "# shuffle and batch the datasets\n",
        "data_ds = data_ds.shuffle(len(data_df))\n",
        "data_ds = data_ds.batch(batch_size)\n",
        "data_ds = data_ds.map(lambda x: ({'text': x['review_text']}, x['rating']))\n",
        "\n",
        "val_ds = val_ds.batch(batch_size)\n",
        "val_ds = val_ds.map(lambda x: ({'text': x['review_text']}, x['rating']))\n",
        "\n",
        "test_ds = test_ds.batch(batch_size)\n",
        "test_ds = test_ds.map(lambda x: ({'text': x['review_text']}))\n",
        "\n",
        "\n",
        "\n",
        "# import tensorflow_hub as hub\n",
        "# !pip install tensorflow_text\n",
        "# import tensorflow_text as text\n",
        "\n",
        "# text_input = tf.keras.layers.Input(shape=(), dtype=tf.string, name='text')\n",
        "# bert_preprocess_model = hub.KerasLayer('https://tfhub.dev/tensorflow/bert_en_uncased_preprocess/3', name='preprocessing')\n",
        "# encoder_inputs = bert_preprocess_model(text_input)\n",
        "# bert_model = hub.KerasLayer('https://tfhub.dev/tensorflow/small_bert/bert_en_uncased_L-4_H-512_A-8/1', trainable=True, name='BERT_encoder')\n",
        "# outputs = bert_model(encoder_inputs)\n",
        "# net = outputs['pooled_output']\n",
        "# net = tf.keras.layers.Dropout(0.1)(net)\n",
        "# net = tf.keras.layers.Dense(6, activation='softmax', name='classifier')(net)\n",
        "# model = tf.keras.Model(text_input, net)\n",
        "# model.summary()\n",
        "\n",
        "\n",
        "\n",
        "###\n",
        "\n",
        "\n",
        "import tensorflow as tf\n",
        "import tensorflow_hub as hub\n",
        "!pip install tensorflow_text\n",
        "import tensorflow_text as text\n",
        "\n",
        "\n",
        "# define the input layer\n",
        "text_input = tf.keras.layers.Input(shape=(), dtype=tf.string, name='text')\n",
        "\n",
        "# define the preprocessing layer using BERT\n",
        "bert_preprocess_model = hub.KerasLayer('https://tfhub.dev/tensorflow/bert_en_uncased_preprocess/3', name='preprocessing')\n",
        "encoder_inputs = bert_preprocess_model(text_input)\n",
        "\n",
        "# define the BERT layer\n",
        "bert_model = hub.KerasLayer('https://tfhub.dev/tensorflow/small_bert/bert_en_uncased_L-4_H-512_A-8/1', trainable=True, name='BERT_encoder')\n",
        "outputs = bert_model(encoder_inputs)\n",
        "\n",
        "# add dropout layer\n",
        "net = outputs['pooled_output']\n",
        "net = tf.keras.layers.Dropout(0.1)(net)\n",
        "\n",
        "# define the output layer\n",
        "output = tf.keras.layers.Dense(6, activation='softmax', name='output')(net)\n",
        "\n",
        "# define the model\n",
        "model = tf.keras.Model(inputs=text_input, outputs=output)\n",
        "\n",
        "# compile the model\n",
        "model.compile(optimizer='adam',\n",
        "              loss='sparse_categorical_crossentropy',\n",
        "              metrics=['accuracy'])\n"
      ]
    },
    {
      "cell_type": "code",
      "source": [
        "model.fit(x=data_ds, validation_data=val_ds, epochs=5)"
      ],
      "metadata": {
        "colab": {
          "base_uri": "https://localhost:8080/"
        },
        "id": "5jDMzrvK_2aH",
        "outputId": "fa30f220-075e-4a1c-a552-1abcca7ccb93"
      },
      "execution_count": null,
      "outputs": [
        {
          "output_type": "stream",
          "name": "stdout",
          "text": [
            "Epoch 1/5\n",
            "15625/15625 [==============================] - 4423s 281ms/step - loss: 1.4683 - accuracy: 0.3316 - val_loss: 1.4395 - val_accuracy: 0.3482\n",
            "Epoch 2/5\n",
            "15625/15625 [==============================] - 4296s 275ms/step - loss: 1.4422 - accuracy: 0.3443 - val_loss: 1.4397 - val_accuracy: 0.3482\n",
            "Epoch 3/5\n",
            "15625/15625 [==============================] - 4285s 274ms/step - loss: 1.4394 - accuracy: 0.3467 - val_loss: 1.4632 - val_accuracy: 0.2943\n",
            "Epoch 4/5\n",
            "15625/15625 [==============================] - 4279s 274ms/step - loss: 1.4378 - accuracy: 0.3473 - val_loss: 1.4692 - val_accuracy: 0.2943\n",
            "Epoch 5/5\n",
            "15625/15625 [==============================] - 4240s 271ms/step - loss: 1.4370 - accuracy: 0.3477 - val_loss: 1.4511 - val_accuracy: 0.3482\n"
          ]
        },
        {
          "output_type": "execute_result",
          "data": {
            "text/plain": [
              "<keras.callbacks.History at 0x7f3b66ffc700>"
            ]
          },
          "metadata": {},
          "execution_count": 3
        }
      ]
    },
    {
      "cell_type": "markdown",
      "source": [
        "For BERT, it took about 5 hours to run just 5 iterations which was still about 35% accuracy\n",
        "\n",
        "It is a very large and complex model that requires significant computational resources to train which might also require high-end hardware to utilize and mazimize its efficiency."
      ],
      "metadata": {
        "id": "pOFCaz_2TuZ0"
      }
    },
    {
      "cell_type": "markdown",
      "source": [
        "# Results"
      ],
      "metadata": {
        "id": "9nq6zvTNicOi"
      }
    },
    {
      "cell_type": "markdown",
      "source": [
        "\n",
        "\n",
        "![Screenshot 2023-04-16 at 09.15.51.png](data:image/png;base64,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)\n",
        "\n"
      ],
      "metadata": {
        "id": "Bi3xQqXbIOq2"
      }
    },
    {
      "cell_type": "markdown",
      "source": [
        "The table above shows the training accuracy, training loss, validation accuracy, validation loss, mean and standard deviation of all the models that were tried. The mean and standard deviation of the models were gotten using numpy on list from model's history. "
      ],
      "metadata": {
        "id": "6a493akyI-aS"
      }
    },
    {
      "cell_type": "markdown",
      "source": [
        "The findings from the table indicates that the GRU and LSTM models, with respective validation accuracies of 0.5269 and 0.5265, are the models that perform the best for the Goodreads dataset. With a validation accuracy of 0.3369, the 3-layer neural network performed averagely. The Bert model, on the other hand, did poorly in comparison to other models, this could be due the number of epochs able to be run as the computational requirements for the Bert model is really high and we had to run the model for 5 hours to be able to achieve only 5 successful epochs run. The validation accuracy of the 4 and 5 layer deep neural networks and the 5NN deep layer model was only about 0.32. MultinomialNB and the SGD classifier both had subpar performance. The Bert model had the lowest training accuracy, while the GRU and LSTM models had the greatest. The GRU had the lowest standard deviation of the models (0.007644), while the 3NN had the largest standard deviation (0.028427). \n",
        "\n",
        "The models that appear to be overfitting are the 3NN, 4NN deep layer, and 5NN deep layer models. These models have low validation accuracies compared to their training accuracies, indicating that they are not generalizing well to new data. Additionally, their validation losses are relatively high compared to their training losses, suggesting that they are overfitting.\n",
        "\n",
        "In contrast, the GRU and LSTM models have similar training and validation accuracies and losses, indicating that they are not overfitting. The BERT model, on the other hand, has a relatively low training accuracy and a high validation loss, suggesting that it may be underfitting or not learning the patterns in the data as well as the other models.\n",
        "\n",
        "Overall, the Bert model and deep neural networks with 4 or 5 layers should be avoided for the classification of the Goodreads dataset in favour of the GRU and LSTM models."
      ],
      "metadata": {
        "id": "pOfGrttPKKHm"
      }
    },
    {
      "cell_type": "markdown",
      "source": [
        "# Discussions"
      ],
      "metadata": {
        "id": "jZ_FjeIMigYc"
      }
    },
    {
      "cell_type": "markdown",
      "source": [
        "The GRU (Gated Recurrent Unit) model has the highest validation accuracy, with a precision of 0.5269. Therefore, we would recommend using the GRU model for this task.\n",
        "\n",
        "Compared to the other models, the GRU has a relatively high training accuracy of 0.5255 and a low training loss of 1.1860, indicating that it is performing well during training. Furthermore, the GRU's validation loss is reasonably modest (1.1835), indicating that it is not overfitting the training set of data.\n",
        "\n",
        "Additionally, the GRU's mean validation accuracy is 0.529189, with a standard deviation of 0.007644, showing that the model performs consistently across various validation sets.\n",
        "\n",
        "Overall, the GRU appears to be the most promising model for this task based on the provided metrics.\n"
      ],
      "metadata": {
        "id": "WJuUNLglLcy1"
      }
    },
    {
      "cell_type": "markdown",
      "source": [
        "The model submitted on Kaggle gave a prediction accuracy of 0.48226"
      ],
      "metadata": {
        "id": "zG3eveYxReRi"
      }
    }
  ]
}